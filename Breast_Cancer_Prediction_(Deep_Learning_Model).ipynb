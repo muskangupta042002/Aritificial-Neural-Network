{
  "nbformat": 4,
  "nbformat_minor": 0,
  "metadata": {
    "accelerator": "GPU",
    "colab": {
      "name": "Breast_Cancer_Prediction (Deep_Learning_Model).ipynb",
      "provenance": [],
      "collapsed_sections": [],
      "include_colab_link": true
    },
    "kernelspec": {
      "display_name": "Python 3",
      "language": "python",
      "name": "python3"
    },
    "language_info": {
      "codemirror_mode": {
        "name": "ipython",
        "version": 3
      },
      "file_extension": ".py",
      "mimetype": "text/x-python",
      "name": "python",
      "nbconvert_exporter": "python",
      "pygments_lexer": "ipython3",
      "version": "3.7.7"
    }
  },
  "cells": [
    {
      "cell_type": "markdown",
      "metadata": {
        "id": "view-in-github",
        "colab_type": "text"
      },
      "source": [
        "<a href=\"https://colab.research.google.com/github/muskangupta042002/Aritificial-Neural-Network/blob/master/Breast_Cancer_Prediction_(Deep_Learning_Model).ipynb\" target=\"_parent\"><img src=\"https://colab.research.google.com/assets/colab-badge.svg\" alt=\"Open In Colab\"/></a>"
      ]
    },
    {
      "cell_type": "markdown",
      "metadata": {
        "colab_type": "text",
        "id": "cDpNVUXUVmx5"
      },
      "source": [
        "# Breast Cancer Prediction"
      ]
    },
    {
      "cell_type": "markdown",
      "metadata": {
        "colab_type": "text",
        "id": "UEa8Sbc5Vb01"
      },
      "source": [
        "## Importing & Reading the data"
      ]
    },
    {
      "cell_type": "code",
      "metadata": {
        "colab_type": "code",
        "id": "74w7i_hdY51X",
        "colab": {}
      },
      "source": [
        "import pandas as pd"
      ],
      "execution_count": null,
      "outputs": []
    },
    {
      "cell_type": "markdown",
      "metadata": {
        "colab_type": "text",
        "id": "Oex88qd38Thn"
      },
      "source": [
        "In this first cell we will upload the CSV files that contain the pre-sorted and pre-normalized data. \n",
        "For these I used the Wisconsin breast cancer dataset, sorted it into training and test sets with the 'input' values to the Neural Network as 'X' values, and the expected 'output' (a 0 if benign and a 1 if malignant) as the 'Y' values.\n"
      ]
    },
    {
      "cell_type": "markdown",
      "metadata": {
        "colab_type": "text",
        "id": "AawbWHXxYteI"
      },
      "source": [
        "### Reading the files"
      ]
    },
    {
      "cell_type": "code",
      "metadata": {
        "colab_type": "code",
        "id": "bXdzIeIDYrpP",
        "colab": {}
      },
      "source": [
        "X_train = pd.read_csv(\"xtrain.csv\", header=None)\n",
        "Y_train = pd.read_csv(\"ytrain.csv\", header=None)\n",
        "X_test = pd.read_csv(\"xtest.csv\", header=None)\n",
        "Y_test = pd.read_csv(\"ytest.csv\", header=None)"
      ],
      "execution_count": null,
      "outputs": []
    },
    {
      "cell_type": "code",
      "metadata": {
        "id": "YEyp5o_5G6wf",
        "colab_type": "code",
        "colab": {},
        "outputId": "9a01a2d6-b078-46f3-cceb-d4e5956e5b9b"
      },
      "source": [
        "X_train.shape, X_test.shape"
      ],
      "execution_count": null,
      "outputs": [
        {
          "output_type": "execute_result",
          "data": {
            "text/plain": [
              "((455, 30), (114, 30))"
            ]
          },
          "metadata": {
            "tags": []
          },
          "execution_count": 3
        }
      ]
    },
    {
      "cell_type": "markdown",
      "metadata": {
        "colab_type": "text",
        "id": "jkau259qVyrv"
      },
      "source": [
        "## Creating the Neural Network"
      ]
    },
    {
      "cell_type": "markdown",
      "metadata": {
        "colab_type": "text",
        "id": "bL4z0BArzqff"
      },
      "source": [
        "Now I'm going to use Keras to define a Neural network that will be trained off of this data. This Neural Network can then be used to predict future values for breast cancer presence. "
      ]
    },
    {
      "cell_type": "code",
      "metadata": {
        "colab_type": "code",
        "id": "LoWtmalR80De",
        "colab": {
          "base_uri": "https://localhost:8080/",
          "height": 34
        },
        "outputId": "fcf2c9f2-1ce2-4d64-83c2-7b675d112ff0"
      },
      "source": [
        "from keras.models import Sequential\n",
        "from keras.layers import Dense\n",
        "\n",
        "import warnings\n",
        "warnings.filterwarnings(action=\"ignore\")"
      ],
      "execution_count": null,
      "outputs": [
        {
          "output_type": "stream",
          "text": [
            "Using TensorFlow backend.\n"
          ],
          "name": "stderr"
        }
      ]
    },
    {
      "cell_type": "markdown",
      "metadata": {
        "colab_type": "text",
        "id": "auW0K0kIaCg_"
      },
      "source": [
        "### Specifying the type of the model"
      ]
    },
    {
      "cell_type": "code",
      "metadata": {
        "colab_type": "code",
        "id": "xcSDBVVvZjxc",
        "colab": {}
      },
      "source": [
        "classifier = Sequential() # Initialising the ANN"
      ],
      "execution_count": null,
      "outputs": []
    },
    {
      "cell_type": "markdown",
      "metadata": {
        "colab_type": "text",
        "id": "aGZqnstgZmLK"
      },
      "source": [
        "### Adding the layers of the Neural Network"
      ]
    },
    {
      "cell_type": "code",
      "metadata": {
        "colab_type": "code",
        "id": "7-6bjvR9Zd7T",
        "colab": {}
      },
      "source": [
        "classifier.add(Dense(units = 16, activation = 'relu', input_dim = 30))\n",
        "classifier.add(Dense(units = 8, activation = 'relu'))\n",
        "classifier.add(Dense(units = 6, activation = 'relu'))\n",
        "classifier.add(Dense(units = 1, activation = 'sigmoid'))"
      ],
      "execution_count": null,
      "outputs": []
    },
    {
      "cell_type": "markdown",
      "metadata": {
        "colab_type": "text",
        "id": "cJ_MStxe9CbN"
      },
      "source": [
        "Once the Neural Network is defined, I now have to specify is the optimizer and loss function"
      ]
    },
    {
      "cell_type": "markdown",
      "metadata": {
        "colab_type": "text",
        "id": "yUXucNvdaURV"
      },
      "source": [
        "### Compiling the Neural Network"
      ]
    },
    {
      "cell_type": "code",
      "metadata": {
        "colab_type": "code",
        "id": "wR2O00E39C7E",
        "colab": {
          "base_uri": "https://localhost:8080/",
          "height": 160
        },
        "outputId": "6bdc6d37-16cc-4405-839b-6aac9e7f42b0"
      },
      "source": [
        "classifier.compile(optimizer = 'adam', loss = 'binary_crossentropy', metrics=['accuracy'])"
      ],
      "execution_count": null,
      "outputs": [
        {
          "output_type": "stream",
          "text": [
            "WARNING:tensorflow:From C:\\Users\\user\\anaconda3\\lib\\site-packages\\tensorflow\\python\\ops\\nn_impl.py:180: add_dispatch_support.<locals>.wrapper (from tensorflow.python.ops.array_ops) is deprecated and will be removed in a future version.\n",
            "Instructions for updating:\n",
            "Use tf.where in 2.0, which has the same broadcast rule as np.where\n"
          ],
          "name": "stdout"
        }
      ]
    },
    {
      "cell_type": "code",
      "metadata": {
        "id": "XNU3HMbGG6xQ",
        "colab_type": "code",
        "colab": {},
        "outputId": "13ba8c38-5fdc-4b43-ac6f-7abbc433d087"
      },
      "source": [
        "classifier.summary()"
      ],
      "execution_count": null,
      "outputs": [
        {
          "output_type": "stream",
          "text": [
            "Model: \"sequential_1\"\n",
            "_________________________________________________________________\n",
            "Layer (type)                 Output Shape              Param #   \n",
            "=================================================================\n",
            "dense_1 (Dense)              (None, 16)                496       \n",
            "_________________________________________________________________\n",
            "dense_2 (Dense)              (None, 8)                 136       \n",
            "_________________________________________________________________\n",
            "dense_3 (Dense)              (None, 6)                 54        \n",
            "_________________________________________________________________\n",
            "dense_4 (Dense)              (None, 1)                 7         \n",
            "=================================================================\n",
            "Total params: 693\n",
            "Trainable params: 693\n",
            "Non-trainable params: 0\n",
            "_________________________________________________________________\n"
          ],
          "name": "stdout"
        }
      ]
    },
    {
      "cell_type": "markdown",
      "metadata": {
        "colab_type": "text",
        "id": "ZBJZBF2nWD6k"
      },
      "source": [
        "## Training the Neural Network"
      ]
    },
    {
      "cell_type": "markdown",
      "metadata": {
        "colab_type": "text",
        "id": "Mn9WPqaP9RmN"
      },
      "source": [
        "You now train the neural network using Classifier.fit, passing it the training data -- i.e. for this set of X, this is what the Y should look like. The NN will then spot the patterns in the data, and build a neural network that could replicate that. "
      ]
    },
    {
      "cell_type": "code",
      "metadata": {
        "colab_type": "code",
        "id": "1QlYnFgH9N49",
        "scrolled": true,
        "colab": {
          "base_uri": "https://localhost:8080/",
          "height": 1000
        },
        "outputId": "124348c0-8929-4677-8396-ed7bd365ece0"
      },
      "source": [
        "h = classifier.fit(X_train, Y_train, batch_size = 32, epochs = 150, verbose=2, validation_split=0.2)"
      ],
      "execution_count": null,
      "outputs": [
        {
          "output_type": "stream",
          "text": [
            "WARNING:tensorflow:From C:\\Users\\user\\anaconda3\\lib\\site-packages\\keras\\backend\\tensorflow_backend.py:422: The name tf.global_variables is deprecated. Please use tf.compat.v1.global_variables instead.\n",
            "\n",
            "Train on 364 samples, validate on 91 samples\n",
            "Epoch 1/150\n",
            " - 5s - loss: 0.6602 - accuracy: 0.6593 - val_loss: 0.5964 - val_accuracy: 0.7473\n",
            "Epoch 2/150\n",
            " - 0s - loss: 0.5399 - accuracy: 0.8462 - val_loss: 0.5153 - val_accuracy: 0.8132\n",
            "Epoch 3/150\n",
            " - 0s - loss: 0.4608 - accuracy: 0.8791 - val_loss: 0.4467 - val_accuracy: 0.8681\n",
            "Epoch 4/150\n",
            " - 0s - loss: 0.3937 - accuracy: 0.8929 - val_loss: 0.3813 - val_accuracy: 0.9011\n",
            "Epoch 5/150\n",
            " - 0s - loss: 0.3349 - accuracy: 0.9176 - val_loss: 0.3195 - val_accuracy: 0.9341\n",
            "Epoch 6/150\n",
            " - 0s - loss: 0.2826 - accuracy: 0.9313 - val_loss: 0.2680 - val_accuracy: 0.9341\n",
            "Epoch 7/150\n",
            " - 0s - loss: 0.2401 - accuracy: 0.9396 - val_loss: 0.2290 - val_accuracy: 0.9670\n",
            "Epoch 8/150\n",
            " - 0s - loss: 0.2075 - accuracy: 0.9423 - val_loss: 0.1983 - val_accuracy: 0.9670\n",
            "Epoch 9/150\n",
            " - 0s - loss: 0.1823 - accuracy: 0.9478 - val_loss: 0.1732 - val_accuracy: 0.9670\n",
            "Epoch 10/150\n",
            " - 0s - loss: 0.1613 - accuracy: 0.9560 - val_loss: 0.1510 - val_accuracy: 0.9780\n",
            "Epoch 11/150\n",
            " - 0s - loss: 0.1448 - accuracy: 0.9560 - val_loss: 0.1324 - val_accuracy: 0.9890\n",
            "Epoch 12/150\n",
            " - 0s - loss: 0.1308 - accuracy: 0.9615 - val_loss: 0.1170 - val_accuracy: 0.9890\n",
            "Epoch 13/150\n",
            " - 0s - loss: 0.1194 - accuracy: 0.9670 - val_loss: 0.1052 - val_accuracy: 0.9890\n",
            "Epoch 14/150\n",
            " - 0s - loss: 0.1079 - accuracy: 0.9753 - val_loss: 0.0951 - val_accuracy: 0.9890\n",
            "Epoch 15/150\n",
            " - 0s - loss: 0.0996 - accuracy: 0.9780 - val_loss: 0.0878 - val_accuracy: 0.9890\n",
            "Epoch 16/150\n",
            " - 0s - loss: 0.0922 - accuracy: 0.9780 - val_loss: 0.0826 - val_accuracy: 0.9890\n",
            "Epoch 17/150\n",
            " - 0s - loss: 0.0858 - accuracy: 0.9780 - val_loss: 0.0762 - val_accuracy: 0.9890\n",
            "Epoch 18/150\n",
            " - 0s - loss: 0.0810 - accuracy: 0.9780 - val_loss: 0.0717 - val_accuracy: 0.9890\n",
            "Epoch 19/150\n",
            " - 0s - loss: 0.0769 - accuracy: 0.9780 - val_loss: 0.0677 - val_accuracy: 0.9890\n",
            "Epoch 20/150\n",
            " - 0s - loss: 0.0730 - accuracy: 0.9780 - val_loss: 0.0656 - val_accuracy: 0.9890\n",
            "Epoch 21/150\n",
            " - 0s - loss: 0.0694 - accuracy: 0.9780 - val_loss: 0.0621 - val_accuracy: 0.9890\n",
            "Epoch 22/150\n",
            " - 0s - loss: 0.0667 - accuracy: 0.9780 - val_loss: 0.0607 - val_accuracy: 0.9890\n",
            "Epoch 23/150\n",
            " - 0s - loss: 0.0641 - accuracy: 0.9780 - val_loss: 0.0579 - val_accuracy: 0.9890\n",
            "Epoch 24/150\n",
            " - 0s - loss: 0.0622 - accuracy: 0.9808 - val_loss: 0.0575 - val_accuracy: 0.9890\n",
            "Epoch 25/150\n",
            " - 0s - loss: 0.0602 - accuracy: 0.9835 - val_loss: 0.0543 - val_accuracy: 0.9890\n",
            "Epoch 26/150\n",
            " - 0s - loss: 0.0583 - accuracy: 0.9863 - val_loss: 0.0539 - val_accuracy: 0.9890\n",
            "Epoch 27/150\n",
            " - 0s - loss: 0.0568 - accuracy: 0.9863 - val_loss: 0.0532 - val_accuracy: 0.9890\n",
            "Epoch 28/150\n",
            " - 0s - loss: 0.0555 - accuracy: 0.9863 - val_loss: 0.0511 - val_accuracy: 0.9890\n",
            "Epoch 29/150\n",
            " - 0s - loss: 0.0541 - accuracy: 0.9863 - val_loss: 0.0505 - val_accuracy: 0.9890\n",
            "Epoch 30/150\n",
            " - 0s - loss: 0.0529 - accuracy: 0.9863 - val_loss: 0.0491 - val_accuracy: 0.9890\n",
            "Epoch 31/150\n",
            " - 0s - loss: 0.0517 - accuracy: 0.9863 - val_loss: 0.0466 - val_accuracy: 0.9890\n",
            "Epoch 32/150\n",
            " - 0s - loss: 0.0501 - accuracy: 0.9863 - val_loss: 0.0466 - val_accuracy: 0.9890\n",
            "Epoch 33/150\n",
            " - 0s - loss: 0.0489 - accuracy: 0.9863 - val_loss: 0.0456 - val_accuracy: 0.9890\n",
            "Epoch 34/150\n",
            " - 0s - loss: 0.0475 - accuracy: 0.9863 - val_loss: 0.0443 - val_accuracy: 0.9890\n",
            "Epoch 35/150\n",
            " - 0s - loss: 0.0468 - accuracy: 0.9863 - val_loss: 0.0439 - val_accuracy: 0.9890\n",
            "Epoch 36/150\n",
            " - 0s - loss: 0.0458 - accuracy: 0.9863 - val_loss: 0.0420 - val_accuracy: 0.9890\n",
            "Epoch 37/150\n",
            " - 0s - loss: 0.0449 - accuracy: 0.9863 - val_loss: 0.0462 - val_accuracy: 0.9890\n",
            "Epoch 38/150\n",
            " - 0s - loss: 0.0432 - accuracy: 0.9863 - val_loss: 0.0458 - val_accuracy: 0.9890\n",
            "Epoch 39/150\n",
            " - 0s - loss: 0.0423 - accuracy: 0.9863 - val_loss: 0.0444 - val_accuracy: 0.9890\n",
            "Epoch 40/150\n",
            " - 0s - loss: 0.0410 - accuracy: 0.9863 - val_loss: 0.0432 - val_accuracy: 0.9890\n",
            "Epoch 41/150\n",
            " - 0s - loss: 0.0399 - accuracy: 0.9863 - val_loss: 0.0433 - val_accuracy: 0.9890\n",
            "Epoch 42/150\n",
            " - 0s - loss: 0.0391 - accuracy: 0.9863 - val_loss: 0.0411 - val_accuracy: 0.9890\n",
            "Epoch 43/150\n",
            " - 0s - loss: 0.0383 - accuracy: 0.9863 - val_loss: 0.0399 - val_accuracy: 0.9890\n",
            "Epoch 44/150\n",
            " - 0s - loss: 0.0372 - accuracy: 0.9890 - val_loss: 0.0410 - val_accuracy: 0.9890\n",
            "Epoch 45/150\n",
            " - 0s - loss: 0.0360 - accuracy: 0.9890 - val_loss: 0.0413 - val_accuracy: 0.9890\n",
            "Epoch 46/150\n",
            " - 0s - loss: 0.0352 - accuracy: 0.9890 - val_loss: 0.0416 - val_accuracy: 0.9890\n",
            "Epoch 47/150\n",
            " - 0s - loss: 0.0345 - accuracy: 0.9890 - val_loss: 0.0408 - val_accuracy: 0.9890\n",
            "Epoch 48/150\n",
            " - 0s - loss: 0.0336 - accuracy: 0.9890 - val_loss: 0.0402 - val_accuracy: 0.9890\n",
            "Epoch 49/150\n",
            " - 0s - loss: 0.0330 - accuracy: 0.9890 - val_loss: 0.0395 - val_accuracy: 0.9890\n",
            "Epoch 50/150\n",
            " - 0s - loss: 0.0322 - accuracy: 0.9890 - val_loss: 0.0387 - val_accuracy: 0.9890\n",
            "Epoch 51/150\n",
            " - 0s - loss: 0.0313 - accuracy: 0.9890 - val_loss: 0.0386 - val_accuracy: 0.9890\n",
            "Epoch 52/150\n",
            " - 0s - loss: 0.0306 - accuracy: 0.9890 - val_loss: 0.0373 - val_accuracy: 0.9890\n",
            "Epoch 53/150\n",
            " - 0s - loss: 0.0298 - accuracy: 0.9890 - val_loss: 0.0371 - val_accuracy: 0.9890\n",
            "Epoch 54/150\n",
            " - 0s - loss: 0.0290 - accuracy: 0.9890 - val_loss: 0.0372 - val_accuracy: 0.9890\n",
            "Epoch 55/150\n",
            " - 0s - loss: 0.0286 - accuracy: 0.9890 - val_loss: 0.0362 - val_accuracy: 0.9890\n",
            "Epoch 56/150\n",
            " - 0s - loss: 0.0281 - accuracy: 0.9918 - val_loss: 0.0387 - val_accuracy: 0.9890\n",
            "Epoch 57/150\n",
            " - 0s - loss: 0.0269 - accuracy: 0.9918 - val_loss: 0.0386 - val_accuracy: 0.9890\n",
            "Epoch 58/150\n",
            " - 0s - loss: 0.0264 - accuracy: 0.9945 - val_loss: 0.0398 - val_accuracy: 0.9890\n",
            "Epoch 59/150\n",
            " - 0s - loss: 0.0254 - accuracy: 0.9918 - val_loss: 0.0379 - val_accuracy: 0.9890\n",
            "Epoch 60/150\n",
            " - 0s - loss: 0.0248 - accuracy: 0.9918 - val_loss: 0.0369 - val_accuracy: 0.9890\n",
            "Epoch 61/150\n",
            " - 0s - loss: 0.0238 - accuracy: 0.9945 - val_loss: 0.0386 - val_accuracy: 0.9890\n",
            "Epoch 62/150\n",
            " - 0s - loss: 0.0234 - accuracy: 0.9945 - val_loss: 0.0397 - val_accuracy: 0.9890\n",
            "Epoch 63/150\n",
            " - 0s - loss: 0.0230 - accuracy: 0.9945 - val_loss: 0.0365 - val_accuracy: 0.9890\n",
            "Epoch 64/150\n",
            " - 0s - loss: 0.0223 - accuracy: 0.9945 - val_loss: 0.0368 - val_accuracy: 0.9890\n",
            "Epoch 65/150\n",
            " - 0s - loss: 0.0216 - accuracy: 0.9945 - val_loss: 0.0343 - val_accuracy: 0.9890\n",
            "Epoch 66/150\n",
            " - 0s - loss: 0.0211 - accuracy: 0.9945 - val_loss: 0.0343 - val_accuracy: 0.9890\n",
            "Epoch 67/150\n",
            " - 0s - loss: 0.0201 - accuracy: 0.9945 - val_loss: 0.0367 - val_accuracy: 0.9890\n",
            "Epoch 68/150\n",
            " - 0s - loss: 0.0197 - accuracy: 0.9945 - val_loss: 0.0358 - val_accuracy: 0.9890\n",
            "Epoch 69/150\n",
            " - 0s - loss: 0.0194 - accuracy: 0.9945 - val_loss: 0.0354 - val_accuracy: 0.9890\n",
            "Epoch 70/150\n",
            " - 0s - loss: 0.0186 - accuracy: 0.9973 - val_loss: 0.0345 - val_accuracy: 0.9890\n",
            "Epoch 71/150\n",
            " - 0s - loss: 0.0182 - accuracy: 0.9973 - val_loss: 0.0338 - val_accuracy: 0.9890\n",
            "Epoch 72/150\n",
            " - 0s - loss: 0.0179 - accuracy: 0.9973 - val_loss: 0.0325 - val_accuracy: 0.9890\n",
            "Epoch 73/150\n",
            " - 0s - loss: 0.0176 - accuracy: 0.9973 - val_loss: 0.0313 - val_accuracy: 0.9890\n",
            "Epoch 74/150\n",
            " - 0s - loss: 0.0175 - accuracy: 0.9973 - val_loss: 0.0352 - val_accuracy: 0.9780\n",
            "Epoch 75/150\n",
            " - 0s - loss: 0.0168 - accuracy: 0.9973 - val_loss: 0.0320 - val_accuracy: 0.9890\n",
            "Epoch 76/150\n",
            " - 0s - loss: 0.0163 - accuracy: 0.9973 - val_loss: 0.0321 - val_accuracy: 0.9780\n",
            "Epoch 77/150\n",
            " - 0s - loss: 0.0157 - accuracy: 0.9973 - val_loss: 0.0308 - val_accuracy: 0.9890\n",
            "Epoch 78/150\n",
            " - 0s - loss: 0.0153 - accuracy: 0.9973 - val_loss: 0.0305 - val_accuracy: 0.9890\n",
            "Epoch 79/150\n",
            " - 0s - loss: 0.0149 - accuracy: 0.9973 - val_loss: 0.0300 - val_accuracy: 0.9890\n",
            "Epoch 80/150\n",
            " - 0s - loss: 0.0151 - accuracy: 0.9973 - val_loss: 0.0378 - val_accuracy: 0.9780\n",
            "Epoch 81/150\n",
            " - 0s - loss: 0.0143 - accuracy: 0.9973 - val_loss: 0.0289 - val_accuracy: 0.9890\n",
            "Epoch 82/150\n",
            " - 0s - loss: 0.0138 - accuracy: 0.9973 - val_loss: 0.0275 - val_accuracy: 0.9890\n",
            "Epoch 83/150\n",
            " - 0s - loss: 0.0135 - accuracy: 0.9973 - val_loss: 0.0275 - val_accuracy: 0.9890\n",
            "Epoch 84/150\n",
            " - 0s - loss: 0.0131 - accuracy: 0.9973 - val_loss: 0.0317 - val_accuracy: 0.9780\n"
          ],
          "name": "stdout"
        },
        {
          "output_type": "stream",
          "text": [
            "Epoch 85/150\n",
            " - 0s - loss: 0.0126 - accuracy: 0.9973 - val_loss: 0.0299 - val_accuracy: 0.9780\n",
            "Epoch 86/150\n",
            " - 0s - loss: 0.0121 - accuracy: 0.9973 - val_loss: 0.0271 - val_accuracy: 0.9780\n",
            "Epoch 87/150\n",
            " - 0s - loss: 0.0119 - accuracy: 0.9973 - val_loss: 0.0278 - val_accuracy: 0.9780\n",
            "Epoch 88/150\n",
            " - 0s - loss: 0.0122 - accuracy: 0.9973 - val_loss: 0.0308 - val_accuracy: 0.9780\n",
            "Epoch 89/150\n",
            " - 0s - loss: 0.0114 - accuracy: 0.9973 - val_loss: 0.0270 - val_accuracy: 0.9780\n",
            "Epoch 90/150\n",
            " - 0s - loss: 0.0111 - accuracy: 0.9973 - val_loss: 0.0262 - val_accuracy: 0.9780\n",
            "Epoch 91/150\n",
            " - 0s - loss: 0.0107 - accuracy: 0.9973 - val_loss: 0.0250 - val_accuracy: 0.9780\n",
            "Epoch 92/150\n",
            " - 0s - loss: 0.0103 - accuracy: 0.9973 - val_loss: 0.0260 - val_accuracy: 0.9780\n",
            "Epoch 93/150\n",
            " - 0s - loss: 0.0102 - accuracy: 0.9973 - val_loss: 0.0275 - val_accuracy: 0.9780\n",
            "Epoch 94/150\n",
            " - 0s - loss: 0.0100 - accuracy: 0.9973 - val_loss: 0.0254 - val_accuracy: 0.9780\n",
            "Epoch 95/150\n",
            " - 0s - loss: 0.0098 - accuracy: 0.9973 - val_loss: 0.0270 - val_accuracy: 0.9780\n",
            "Epoch 96/150\n",
            " - 0s - loss: 0.0094 - accuracy: 0.9973 - val_loss: 0.0256 - val_accuracy: 0.9780\n",
            "Epoch 97/150\n",
            " - 0s - loss: 0.0090 - accuracy: 0.9973 - val_loss: 0.0262 - val_accuracy: 0.9780\n",
            "Epoch 98/150\n",
            " - 0s - loss: 0.0088 - accuracy: 0.9973 - val_loss: 0.0270 - val_accuracy: 0.9780\n",
            "Epoch 99/150\n",
            " - 0s - loss: 0.0086 - accuracy: 0.9973 - val_loss: 0.0271 - val_accuracy: 0.9780\n",
            "Epoch 100/150\n",
            " - 0s - loss: 0.0087 - accuracy: 0.9973 - val_loss: 0.0308 - val_accuracy: 0.9780\n",
            "Epoch 101/150\n",
            " - 0s - loss: 0.0081 - accuracy: 0.9973 - val_loss: 0.0280 - val_accuracy: 0.9780\n",
            "Epoch 102/150\n",
            " - 0s - loss: 0.0083 - accuracy: 0.9973 - val_loss: 0.0237 - val_accuracy: 0.9780\n",
            "Epoch 103/150\n",
            " - 0s - loss: 0.0077 - accuracy: 0.9973 - val_loss: 0.0243 - val_accuracy: 0.9780\n",
            "Epoch 104/150\n",
            " - 0s - loss: 0.0075 - accuracy: 0.9973 - val_loss: 0.0253 - val_accuracy: 0.9780\n",
            "Epoch 105/150\n",
            " - 0s - loss: 0.0073 - accuracy: 0.9973 - val_loss: 0.0254 - val_accuracy: 0.9780\n",
            "Epoch 106/150\n",
            " - 0s - loss: 0.0071 - accuracy: 0.9973 - val_loss: 0.0268 - val_accuracy: 0.9780\n",
            "Epoch 107/150\n",
            " - 0s - loss: 0.0071 - accuracy: 1.0000 - val_loss: 0.0282 - val_accuracy: 0.9780\n",
            "Epoch 108/150\n",
            " - 0s - loss: 0.0070 - accuracy: 1.0000 - val_loss: 0.0257 - val_accuracy: 0.9780\n",
            "Epoch 109/150\n",
            " - 0s - loss: 0.0068 - accuracy: 0.9973 - val_loss: 0.0251 - val_accuracy: 0.9780\n",
            "Epoch 110/150\n",
            " - 0s - loss: 0.0065 - accuracy: 1.0000 - val_loss: 0.0263 - val_accuracy: 0.9780\n",
            "Epoch 111/150\n",
            " - 0s - loss: 0.0063 - accuracy: 1.0000 - val_loss: 0.0251 - val_accuracy: 0.9780\n",
            "Epoch 112/150\n",
            " - 0s - loss: 0.0062 - accuracy: 1.0000 - val_loss: 0.0247 - val_accuracy: 0.9780\n",
            "Epoch 113/150\n",
            " - 0s - loss: 0.0060 - accuracy: 1.0000 - val_loss: 0.0255 - val_accuracy: 0.9780\n",
            "Epoch 114/150\n",
            " - 0s - loss: 0.0058 - accuracy: 1.0000 - val_loss: 0.0256 - val_accuracy: 0.9780\n",
            "Epoch 115/150\n",
            " - 0s - loss: 0.0058 - accuracy: 1.0000 - val_loss: 0.0247 - val_accuracy: 0.9780\n",
            "Epoch 116/150\n",
            " - 0s - loss: 0.0055 - accuracy: 1.0000 - val_loss: 0.0263 - val_accuracy: 0.9780\n",
            "Epoch 117/150\n",
            " - 0s - loss: 0.0055 - accuracy: 1.0000 - val_loss: 0.0244 - val_accuracy: 0.9780\n",
            "Epoch 118/150\n",
            " - 0s - loss: 0.0054 - accuracy: 1.0000 - val_loss: 0.0244 - val_accuracy: 0.9780\n",
            "Epoch 119/150\n",
            " - 0s - loss: 0.0052 - accuracy: 1.0000 - val_loss: 0.0255 - val_accuracy: 0.9780\n",
            "Epoch 120/150\n",
            " - 0s - loss: 0.0051 - accuracy: 1.0000 - val_loss: 0.0246 - val_accuracy: 0.9780\n",
            "Epoch 121/150\n",
            " - 0s - loss: 0.0052 - accuracy: 1.0000 - val_loss: 0.0234 - val_accuracy: 0.9780\n",
            "Epoch 122/150\n",
            " - 0s - loss: 0.0049 - accuracy: 1.0000 - val_loss: 0.0247 - val_accuracy: 0.9780\n",
            "Epoch 123/150\n",
            " - 0s - loss: 0.0048 - accuracy: 1.0000 - val_loss: 0.0260 - val_accuracy: 0.9780\n",
            "Epoch 124/150\n",
            " - 0s - loss: 0.0048 - accuracy: 1.0000 - val_loss: 0.0249 - val_accuracy: 0.9780\n",
            "Epoch 125/150\n",
            " - 0s - loss: 0.0047 - accuracy: 1.0000 - val_loss: 0.0246 - val_accuracy: 0.9780\n",
            "Epoch 126/150\n",
            " - 0s - loss: 0.0047 - accuracy: 1.0000 - val_loss: 0.0286 - val_accuracy: 0.9780\n",
            "Epoch 127/150\n",
            " - 0s - loss: 0.0049 - accuracy: 1.0000 - val_loss: 0.0251 - val_accuracy: 0.9780\n",
            "Epoch 128/150\n",
            " - 0s - loss: 0.0044 - accuracy: 1.0000 - val_loss: 0.0238 - val_accuracy: 0.9780\n",
            "Epoch 129/150\n",
            " - 0s - loss: 0.0042 - accuracy: 1.0000 - val_loss: 0.0243 - val_accuracy: 0.9780\n",
            "Epoch 130/150\n",
            " - 0s - loss: 0.0041 - accuracy: 1.0000 - val_loss: 0.0252 - val_accuracy: 0.9780\n",
            "Epoch 131/150\n",
            " - 0s - loss: 0.0041 - accuracy: 1.0000 - val_loss: 0.0243 - val_accuracy: 0.9780\n",
            "Epoch 132/150\n",
            " - 0s - loss: 0.0039 - accuracy: 1.0000 - val_loss: 0.0248 - val_accuracy: 0.9780\n",
            "Epoch 133/150\n",
            " - 0s - loss: 0.0039 - accuracy: 1.0000 - val_loss: 0.0255 - val_accuracy: 0.9780\n",
            "Epoch 134/150\n",
            " - 0s - loss: 0.0037 - accuracy: 1.0000 - val_loss: 0.0252 - val_accuracy: 0.9780\n",
            "Epoch 135/150\n",
            " - 0s - loss: 0.0037 - accuracy: 1.0000 - val_loss: 0.0260 - val_accuracy: 0.9780\n",
            "Epoch 136/150\n",
            " - 0s - loss: 0.0036 - accuracy: 1.0000 - val_loss: 0.0251 - val_accuracy: 0.9780\n",
            "Epoch 137/150\n",
            " - 0s - loss: 0.0035 - accuracy: 1.0000 - val_loss: 0.0255 - val_accuracy: 0.9780\n",
            "Epoch 138/150\n",
            " - 0s - loss: 0.0034 - accuracy: 1.0000 - val_loss: 0.0254 - val_accuracy: 0.9780\n",
            "Epoch 139/150\n",
            " - 0s - loss: 0.0034 - accuracy: 1.0000 - val_loss: 0.0252 - val_accuracy: 0.9780\n",
            "Epoch 140/150\n",
            " - 0s - loss: 0.0033 - accuracy: 1.0000 - val_loss: 0.0242 - val_accuracy: 0.9780\n",
            "Epoch 141/150\n",
            " - 0s - loss: 0.0032 - accuracy: 1.0000 - val_loss: 0.0253 - val_accuracy: 0.9780\n",
            "Epoch 142/150\n",
            " - 0s - loss: 0.0031 - accuracy: 1.0000 - val_loss: 0.0253 - val_accuracy: 0.9780\n",
            "Epoch 143/150\n",
            " - 0s - loss: 0.0031 - accuracy: 1.0000 - val_loss: 0.0234 - val_accuracy: 0.9780\n",
            "Epoch 144/150\n",
            " - 0s - loss: 0.0030 - accuracy: 1.0000 - val_loss: 0.0246 - val_accuracy: 0.9780\n",
            "Epoch 145/150\n",
            " - 0s - loss: 0.0029 - accuracy: 1.0000 - val_loss: 0.0251 - val_accuracy: 0.9780\n",
            "Epoch 146/150\n",
            " - 0s - loss: 0.0030 - accuracy: 1.0000 - val_loss: 0.0263 - val_accuracy: 0.9780\n",
            "Epoch 147/150\n",
            " - 0s - loss: 0.0029 - accuracy: 1.0000 - val_loss: 0.0282 - val_accuracy: 0.9780\n",
            "Epoch 148/150\n",
            " - 0s - loss: 0.0030 - accuracy: 1.0000 - val_loss: 0.0265 - val_accuracy: 0.9780\n",
            "Epoch 149/150\n",
            " - 0s - loss: 0.0028 - accuracy: 1.0000 - val_loss: 0.0255 - val_accuracy: 0.9780\n",
            "Epoch 150/150\n",
            " - 0s - loss: 0.0027 - accuracy: 1.0000 - val_loss: 0.0252 - val_accuracy: 0.9780\n"
          ],
          "name": "stdout"
        }
      ]
    },
    {
      "cell_type": "code",
      "metadata": {
        "id": "gP8sir0AG6xg",
        "colab_type": "code",
        "colab": {}
      },
      "source": [
        "import matplotlib.pyplot as plt"
      ],
      "execution_count": null,
      "outputs": []
    },
    {
      "cell_type": "code",
      "metadata": {
        "id": "zh_oxOENG6xn",
        "colab_type": "code",
        "colab": {},
        "outputId": "30f2a6ce-f87b-4f0d-8226-ecf228e7a7c6"
      },
      "source": [
        "plt.figure(figsize=(16,6))\n",
        "\n",
        "plt.subplot(1,2,1)\n",
        "plt.plot(range(1, 151), h.history['loss'], c='b', label='Training Loss')\n",
        "plt.plot(range(1, 151), h.history['val_loss'], c='g', label='Validation Loss')\n",
        "plt.legend()\n",
        "plt.title(\"Loss\")\n",
        "plt.xlabel('Epochs')\n",
        "plt.ylabel('Loss')\n",
        "\n",
        "plt.subplot(1,2,2)\n",
        "plt.plot(range(1, 151), h.history['accuracy'], c='b', label='Training Loss')\n",
        "plt.plot(range(1, 151), h.history['val_accuracy'], c='g', label='Validation Loss')\n",
        "plt.legend()\n",
        "plt.title('Accuracy')\n",
        "plt.xlabel('Epochs')\n",
        "plt.ylabel('Accuracy')\n",
        "\n",
        "plt.show()"
      ],
      "execution_count": null,
      "outputs": [
        {
          "output_type": "display_data",
          "data": {
            "image/png": "[encoded data removed]",
            "text/plain": [
              "<Figure size 1152x432 with 2 Axes>"
            ]
          },
          "metadata": {
            "tags": [],
            "needs_background": "light"
          }
        }
      ]
    },
    {
      "cell_type": "markdown",
      "metadata": {
        "colab_type": "text",
        "id": "4QkynTKWWLwC"
      },
      "source": [
        "## Making Predictions"
      ]
    },
    {
      "cell_type": "markdown",
      "metadata": {
        "colab_type": "text",
        "id": "yrnGgtfn9gsE"
      },
      "source": [
        "To predict new values, the Neural Network uses `classifier.predict()`. I'm going to pass it the test values for X (which the Neural Network hasn't previously seen) and it will give me back a set of predictions. These predicitons will be probabilities, so I will clean them up by saying that if thye are greater than .5, I'll make them 1, else I'll make them 0."
      ]
    },
    {
      "cell_type": "code",
      "metadata": {
        "id": "hK7BJKKkG6xy",
        "colab_type": "code",
        "colab": {}
      },
      "source": [
        "Y_pred = classifier.predict(X_test)"
      ],
      "execution_count": null,
      "outputs": []
    },
    {
      "cell_type": "code",
      "metadata": {
        "colab_type": "code",
        "id": "xEaG0Tkx9fUU",
        "colab": {}
      },
      "source": [
        "Y_pred = [ 1 if y>=0.5 else 0 for y in Y_pred ]"
      ],
      "execution_count": null,
      "outputs": []
    },
    {
      "cell_type": "markdown",
      "metadata": {
        "colab_type": "text",
        "id": "oQK3Qo9h97OW"
      },
      "source": [
        "Now we can loop through the set of predicitons for the test set (called Y_pred) and the actual values for the test set (celled Y_test), and see how alike they are -- if they are the same, I'll increment 'correct', otherwise I'll incrememnt 'wrong'. \n",
        "\n",
        "You'll see the result is 100% accurate, even though the neural network reported a lower accuracy than that. Why? "
      ]
    },
    {
      "cell_type": "markdown",
      "metadata": {
        "colab_type": "text",
        "id": "n5s8qW6PT8Ly"
      },
      "source": [
        "## Model Evaluation"
      ]
    },
    {
      "cell_type": "code",
      "metadata": {
        "colab_type": "code",
        "id": "he_2VHJ_9yC1",
        "colab": {
          "base_uri": "https://localhost:8080/",
          "height": 70
        },
        "outputId": "2c9b99a7-92bd-417a-c6a1-dba70426d5ae"
      },
      "source": [
        "total = 0\n",
        "correct = 0\n",
        "wrong = 0\n",
        "for i in range(len(Y_pred)):\n",
        "    total=total+1\n",
        "    if(Y_test.at[i,0] == Y_pred[i]):\n",
        "        correct=correct+1\n",
        "    else:\n",
        "        wrong=wrong+1\n",
        "\n",
        "print(\"Total \" + str(total))\n",
        "print(\"Correct \" + str(correct))\n",
        "print(\"Wrong \" + str(wrong))"
      ],
      "execution_count": null,
      "outputs": [
        {
          "output_type": "stream",
          "text": [
            "Total 114\n",
            "Correct 109\n",
            "Wrong 5\n"
          ],
          "name": "stdout"
        }
      ]
    },
    {
      "cell_type": "markdown",
      "metadata": {
        "colab_type": "text",
        "id": "92qOgw5NYOau"
      },
      "source": [
        "### Confusion Matrix"
      ]
    },
    {
      "cell_type": "code",
      "metadata": {
        "colab_type": "code",
        "id": "_m1Hk27dRdJr",
        "colab": {
          "base_uri": "https://localhost:8080/",
          "height": 269
        },
        "outputId": "10f9dd9b-f1c7-4f31-b88d-2078b4465e68"
      },
      "source": [
        "from sklearn.metrics import confusion_matrix\n",
        "import seaborn as sns\n",
        "import matplotlib.pyplot as plt\n",
        "\n",
        "sns.heatmap(confusion_matrix(Y_test, Y_pred), annot=True, cmap='Blues')\n",
        "plt.xlabel('Predicted')\n",
        "plt.ylabel(\"Real\")\n",
        "plt.show()"
      ],
      "execution_count": null,
      "outputs": [
        {
          "output_type": "display_data",
          "data": {
            "image/png": "[encoded data removed]",
            "text/plain": [
              "<Figure size 432x288 with 2 Axes>"
            ]
          },
          "metadata": {
            "tags": [],
            "needs_background": "light"
          }
        }
      ]
    },
    {
      "cell_type": "markdown",
      "metadata": {
        "colab_type": "text",
        "id": "NpVhaS-BYaT_"
      },
      "source": [
        "### Accuracy & Recall"
      ]
    },
    {
      "cell_type": "code",
      "metadata": {
        "colab_type": "code",
        "id": "dDind4i0RjQG",
        "colab": {
          "base_uri": "https://localhost:8080/",
          "height": 52
        },
        "outputId": "41cacad2-8263-4ccc-90c6-fd960b99348a"
      },
      "source": [
        "from sklearn.metrics import recall_score, accuracy_score\n",
        "\n",
        "accuracy = accuracy_score(Y_test, Y_pred)\n",
        "recall = recall_score(Y_test, Y_pred)\n",
        "\n",
        "print(\"Accuracy: {}\\nRecall: {}\".format(accuracy, recall))"
      ],
      "execution_count": null,
      "outputs": [
        {
          "output_type": "stream",
          "text": [
            "Accuracy: 0.956140350877193\n",
            "Recall: 0.9787234042553191\n"
          ],
          "name": "stdout"
        }
      ]
    },
    {
      "cell_type": "code",
      "metadata": {
        "id": "Xo1PtJSFG6yg",
        "colab_type": "code",
        "colab": {}
      },
      "source": [
        ""
      ],
      "execution_count": null,
      "outputs": []
    },
    {
      "cell_type": "code",
      "metadata": {
        "id": "hix11h-tG6ym",
        "colab_type": "code",
        "colab": {}
      },
      "source": [
        ""
      ],
      "execution_count": null,
      "outputs": []
    },
    {
      "cell_type": "code",
      "metadata": {
        "id": "ffLhaybUG6ys",
        "colab_type": "code",
        "colab": {}
      },
      "source": [
        ""
      ],
      "execution_count": null,
      "outputs": []
    }
  ]
}