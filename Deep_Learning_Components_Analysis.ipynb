{
  "nbformat": 4,
  "nbformat_minor": 0,
  "metadata": {
    "colab": {
      "name": "Deep Learning Components Analysis.ipynb",
      "provenance": [],
      "toc_visible": true,
      "include_colab_link": true
    },
    "kernelspec": {
      "display_name": "Python 3",
      "language": "python",
      "name": "python3"
    }
  },
  "cells": [
    {
      "cell_type": "markdown",
      "metadata": {
        "id": "view-in-github",
        "colab_type": "text"
      },
      "source": [
        "<a href=\"https://colab.research.google.com/github/muskangupta042002/Aritificial-Neural-Network/blob/master/Deep_Learning_Components_Analysis.ipynb\" target=\"_parent\"><img src=\"https://colab.research.google.com/assets/colab-badge.svg\" alt=\"Open In Colab\"/></a>"
      ]
    },
    {
      "cell_type": "markdown",
      "metadata": {
        "colab_type": "text",
        "id": "CJisqW0AnfDz"
      },
      "source": [
        "![alt text](https://upload.wikimedia.org/wikipedia/commons/1/11/TensorFlowLogo.svg \"TensorFlow\")\n",
        "\n",
        "                                                                                                        Source - Wikipedia"
      ]
    },
    {
      "cell_type": "markdown",
      "metadata": {
        "colab_type": "text",
        "id": "fkr77C4vnfD2"
      },
      "source": [
        "### Table of Content\n",
        "\n",
        "1. [Deep Learning Basics](#section1)<br>\n",
        "2. [Experiment with Components](#section2)<br>"
      ]
    },
    {
      "cell_type": "markdown",
      "metadata": {
        "colab_type": "text",
        "id": "_3gx5a6hnfD2"
      },
      "source": [
        "<a id=section1></a>"
      ]
    },
    {
      "cell_type": "markdown",
      "metadata": {
        "colab_type": "text",
        "id": "vgT-KwmBnfD3"
      },
      "source": [
        "# Deep Learning Basics"
      ]
    },
    {
      "cell_type": "markdown",
      "metadata": {
        "colab_type": "text",
        "id": "UDI7ieEsnfD4"
      },
      "source": [
        "* This notebook is intended to give you a __thorough insight into training deep learning models.__\n",
        "* You will also get to know __how different hyperparameters are changed__ and __how they affect the model.__"
      ]
    },
    {
      "cell_type": "markdown",
      "metadata": {
        "colab_type": "text",
        "id": "tOFQwQ5nnfD5"
      },
      "source": [
        "## 1. Import the Libraries"
      ]
    },
    {
      "cell_type": "code",
      "metadata": {
        "colab_type": "code",
        "id": "kTnTd_kynfD5",
        "colab": {}
      },
      "source": [
        "import time\n",
        "import numpy as np\n",
        "\n",
        "from keras.models import Sequential\n",
        "from keras.layers import Dense\n",
        "from keras.optimizers import SGD\n",
        "from keras.utils import np_utils\n",
        "\n",
        "import matplotlib.pyplot as plt\n",
        "%matplotlib inline\n",
        "\n",
        "import warnings\n",
        "warnings.filterwarnings(action=\"ignore\")"
      ],
      "execution_count": 1,
      "outputs": []
    },
    {
      "cell_type": "markdown",
      "metadata": {
        "colab_type": "text",
        "id": "6Xvb049qnfD_"
      },
      "source": [
        "## 2. Set Random Seed for Reproducibility"
      ]
    },
    {
      "cell_type": "code",
      "metadata": {
        "colab_type": "code",
        "id": "IFodOQ6SnfEA",
        "colab": {}
      },
      "source": [
        "np.random.seed(903)"
      ],
      "execution_count": 2,
      "outputs": []
    },
    {
      "cell_type": "markdown",
      "metadata": {
        "colab_type": "text",
        "id": "sIbW943GnfEE"
      },
      "source": [
        "## 3. Load MNIST\n",
        "\n",
        "Keras provides very __convenient means of loading the dataset__ as well as doing the __data slicing__ as shown below.\n",
        "\n",
        "Note - It is customary to name the attributes X (matrix) in upper-case and the label y (vector) in lower-case."
      ]
    },
    {
      "cell_type": "code",
      "metadata": {
        "colab_type": "code",
        "id": "fhpH94GcnfEE",
        "colab": {
          "base_uri": "https://localhost:8080/",
          "height": 141
        },
        "outputId": "cfe23e90-0a9f-4e14-b7e0-9f03fee8a01f"
      },
      "source": [
        "from keras.datasets import mnist\n",
        "(train_features, train_labels), (test_features, test_labels) = mnist.load_data()\n",
        "_, img_rows, img_cols =  train_features.shape\n",
        "num_classes = len(np.unique(train_labels))\n",
        "num_input_nodes = img_rows*img_cols\n",
        "\n",
        "print(\"Number of training samples: %d\"%train_features.shape[0])\n",
        "print(\"Number of test samples: %d\"%test_features.shape[0])\n",
        "print(\"Image rows: %d\"%train_features.shape[1])\n",
        "print(\"Image columns: %d\"%train_features.shape[2])\n",
        "print(\"Number of classes: %d\"%num_classes)"
      ],
      "execution_count": 3,
      "outputs": [
        {
          "output_type": "stream",
          "text": [
            "Downloading data from https://storage.googleapis.com/tensorflow/tf-keras-datasets/mnist.npz\n",
            "11493376/11490434 [==============================] - 0s 0us/step\n",
            "Number of training samples: 60000\n",
            "Number of test samples: 10000\n",
            "Image rows: 28\n",
            "Image columns: 28\n",
            "Number of classes: 10\n"
          ],
          "name": "stdout"
        }
      ]
    },
    {
      "cell_type": "markdown",
      "metadata": {
        "colab_type": "text",
        "id": "wm77bQRznfEJ"
      },
      "source": [
        "## 4. Show Examples from Each Class"
      ]
    },
    {
      "cell_type": "code",
      "metadata": {
        "colab_type": "code",
        "id": "t4xQNG6unfEJ",
        "colab": {
          "base_uri": "https://localhost:8080/",
          "height": 314
        },
        "outputId": "2961e35d-3a96-46ef-b0b2-a839b868e75c"
      },
      "source": [
        "fig = plt.figure(figsize=(12,5))\n",
        "for i in range(num_classes):\n",
        "    ax = fig.add_subplot(2, 5, 1 + i, xticks=[], yticks=[])\n",
        "    features_idx = train_features[train_labels[:]==i,:]\n",
        "    ax.set_title(\"Num: \" + str(i))\n",
        "    plt.imshow(features_idx[0], cmap=\"gray\")\n",
        "plt.show()"
      ],
      "execution_count": 4,
      "outputs": [
        {
          "output_type": "display_data",
          "data": {
            "image/png": "[encoded data removed]",
            "text/plain": [
              "<Figure size 864x360 with 10 Axes>"
            ]
          },
          "metadata": {
            "tags": []
          }
        }
      ]
    },
    {
      "cell_type": "markdown",
      "metadata": {
        "colab_type": "text",
        "id": "euxUqnQ7nfEN"
      },
      "source": [
        "## 5. Pre-processing"
      ]
    },
    {
      "cell_type": "code",
      "metadata": {
        "colab_type": "code",
        "id": "2ns7KZfUnfEO",
        "colab": {}
      },
      "source": [
        "# reshape images to column vectors\n",
        "train_features = train_features.reshape(train_features.shape[0], img_rows*img_cols) #X_train\n",
        "test_features = test_features.reshape(test_features.shape[0], img_rows*img_cols) #X_test\n",
        "\n",
        "# convert class labels to binary class labels\n",
        "train_labels = np_utils.to_categorical(train_labels, num_classes) # y_train\n",
        "test_labels = np_utils.to_categorical(test_labels, num_classes) # y_test"
      ],
      "execution_count": 5,
      "outputs": []
    },
    {
      "cell_type": "markdown",
      "metadata": {
        "colab_type": "text",
        "id": "Jq4kMs6KnfEQ"
      },
      "source": [
        "## 6. Define Neural Network Model"
      ]
    },
    {
      "cell_type": "code",
      "metadata": {
        "colab_type": "code",
        "id": "8EUUFmGUnfER",
        "colab": {}
      },
      "source": [
        "def simple_nn():\n",
        "    # initialize model\n",
        "    model = Sequential()\n",
        "    \n",
        "    # add an input layer and a hidden layer\n",
        "    model.add(Dense(units=100, activation='sigmoid', input_dim = num_input_nodes))\n",
        "    # add output layer\n",
        "    model.add(Dense(units=num_classes, activation='softmax'))\n",
        "    return model"
      ],
      "execution_count": 6,
      "outputs": []
    },
    {
      "cell_type": "markdown",
      "metadata": {
        "colab_type": "text",
        "id": "kOyFvBNNnfEU"
      },
      "source": [
        "Check the model summary - "
      ]
    },
    {
      "cell_type": "code",
      "metadata": {
        "colab_type": "code",
        "id": "s3sQdc-_nfEV",
        "colab": {
          "base_uri": "https://localhost:8080/",
          "height": 230
        },
        "outputId": "7bdc5f96-a0d0-45b5-91d5-01b76814dea8"
      },
      "source": [
        "# define model by calling the function created above\n",
        "model = simple_nn()\n",
        "\n",
        "# define optimizer\n",
        "sgd = SGD(lr=0.01)\n",
        "\n",
        "# Compiling the model\n",
        "model.compile(optimizer=sgd, loss='mse', metrics=['accuracy'])\n",
        "\n",
        "# print model information\n",
        "model.summary()"
      ],
      "execution_count": 7,
      "outputs": [
        {
          "output_type": "stream",
          "text": [
            "Model: \"sequential\"\n",
            "_________________________________________________________________\n",
            "Layer (type)                 Output Shape              Param #   \n",
            "=================================================================\n",
            "dense (Dense)                (None, 100)               78500     \n",
            "_________________________________________________________________\n",
            "dense_1 (Dense)              (None, 10)                1010      \n",
            "=================================================================\n",
            "Total params: 79,510\n",
            "Trainable params: 79,510\n",
            "Non-trainable params: 0\n",
            "_________________________________________________________________\n"
          ],
          "name": "stdout"
        }
      ]
    },
    {
      "cell_type": "markdown",
      "metadata": {
        "colab_type": "text",
        "id": "BRrhvnF1nfEZ"
      },
      "source": [
        "## 7. Train the Model"
      ]
    },
    {
      "cell_type": "code",
      "metadata": {
        "colab_type": "code",
        "id": "wwvQCARRnfEZ",
        "scrolled": false,
        "colab": {
          "base_uri": "https://localhost:8080/",
          "height": 0
        },
        "outputId": "ef164438-2b8c-416c-f00c-414f98dbab93"
      },
      "source": [
        "start = time.time()\n",
        "model_info = model.fit(train_features, train_labels, \n",
        "                     batch_size=64,\n",
        "                     epochs=10, \n",
        "                     verbose=2, \n",
        "                     validation_split=0.2)\n",
        "end = time.time()\n",
        "\n",
        "total_time = round(end - start, 2)\n",
        "print(\"Model took {} seconds to train\".format(total_time))"
      ],
      "execution_count": 8,
      "outputs": [
        {
          "output_type": "stream",
          "text": [
            "Epoch 1/10\n",
            "750/750 - 1s - loss: 0.0858 - accuracy: 0.2690 - val_loss: 0.0796 - val_accuracy: 0.3518\n",
            "Epoch 2/10\n",
            "750/750 - 1s - loss: 0.0752 - accuracy: 0.4125 - val_loss: 0.0711 - val_accuracy: 0.4641\n",
            "Epoch 3/10\n",
            "750/750 - 1s - loss: 0.0678 - accuracy: 0.4902 - val_loss: 0.0642 - val_accuracy: 0.5359\n",
            "Epoch 4/10\n",
            "750/750 - 1s - loss: 0.0615 - accuracy: 0.5629 - val_loss: 0.0578 - val_accuracy: 0.6100\n",
            "Epoch 5/10\n",
            "750/750 - 1s - loss: 0.0557 - accuracy: 0.6313 - val_loss: 0.0519 - val_accuracy: 0.6749\n",
            "Epoch 6/10\n",
            "750/750 - 1s - loss: 0.0502 - accuracy: 0.6956 - val_loss: 0.0463 - val_accuracy: 0.7432\n",
            "Epoch 7/10\n",
            "750/750 - 1s - loss: 0.0449 - accuracy: 0.7518 - val_loss: 0.0412 - val_accuracy: 0.7854\n",
            "Epoch 8/10\n",
            "750/750 - 1s - loss: 0.0404 - accuracy: 0.7869 - val_loss: 0.0372 - val_accuracy: 0.8114\n",
            "Epoch 9/10\n",
            "750/750 - 1s - loss: 0.0370 - accuracy: 0.8069 - val_loss: 0.0342 - val_accuracy: 0.8282\n",
            "Epoch 10/10\n",
            "750/750 - 1s - loss: 0.0343 - accuracy: 0.8226 - val_loss: 0.0318 - val_accuracy: 0.8397\n",
            "Model took 12.6 seconds to train\n"
          ],
          "name": "stdout"
        }
      ]
    },
    {
      "cell_type": "code",
      "metadata": {
        "id": "6jhGl6aFHy6I",
        "colab_type": "code",
        "colab": {}
      },
      "source": [
        "from pprint import pprint as pp  # Pretty Print"
      ],
      "execution_count": 9,
      "outputs": []
    },
    {
      "cell_type": "code",
      "metadata": {
        "id": "PZVbS8rsHy6R",
        "colab_type": "code",
        "colab": {
          "base_uri": "https://localhost:8080/",
          "height": 0
        },
        "outputId": "b03b6a19-a47b-4860-fb92-ba588066d604"
      },
      "source": [
        "pp(model_info.history)"
      ],
      "execution_count": 10,
      "outputs": [
        {
          "output_type": "stream",
          "text": [
            "{'accuracy': [0.26897916197776794,\n",
            "              0.4125416576862335,\n",
            "              0.49020832777023315,\n",
            "              0.5629166960716248,\n",
            "              0.6312708258628845,\n",
            "              0.695604145526886,\n",
            "              0.7517916560173035,\n",
            "              0.7868541479110718,\n",
            "              0.8069375157356262,\n",
            "              0.8226249814033508],\n",
            " 'loss': [0.0857587456703186,\n",
            "          0.07523305714130402,\n",
            "          0.06784918904304504,\n",
            "          0.06147606298327446,\n",
            "          0.05565732717514038,\n",
            "          0.050152380019426346,\n",
            "          0.0448753796517849,\n",
            "          0.04044770076870918,\n",
            "          0.03699634224176407,\n",
            "          0.03425322845578194],\n",
            " 'val_accuracy': [0.3518333435058594,\n",
            "                  0.46408334374427795,\n",
            "                  0.5359166860580444,\n",
            "                  0.6100000143051147,\n",
            "                  0.674916684627533,\n",
            "                  0.7431666851043701,\n",
            "                  0.7854166626930237,\n",
            "                  0.8114166855812073,\n",
            "                  0.828166663646698,\n",
            "                  0.8396666646003723],\n",
            " 'val_loss': [0.07961548119783401,\n",
            "              0.07105614989995956,\n",
            "              0.06415082514286041,\n",
            "              0.05783739686012268,\n",
            "              0.05194506421685219,\n",
            "              0.04633409529924393,\n",
            "              0.04124739393591881,\n",
            "              0.03723539039492607,\n",
            "              0.03419690206646919,\n",
            "              0.03181569278240204]}\n"
          ],
          "name": "stdout"
        }
      ]
    },
    {
      "cell_type": "markdown",
      "metadata": {
        "colab_type": "text",
        "id": "Sm4YS0aHnfEd"
      },
      "source": [
        "## 8. Plot Accuracy and Loss"
      ]
    },
    {
      "cell_type": "code",
      "metadata": {
        "colab_type": "code",
        "id": "8gb399XcnfEe",
        "scrolled": true,
        "colab": {
          "base_uri": "https://localhost:8080/",
          "height": 0
        },
        "outputId": "824d76ae-957a-49bc-f335-216fc7c10710"
      },
      "source": [
        "def plot_model_history(model_history):\n",
        "    fig, axs = plt.subplots(1,2,figsize=(15,5))\n",
        "    # summarize history for accuracy\n",
        "    axs[0].plot(range(1,len(model_history.history['accuracy'])+1),model_history.history['accuracy'])\n",
        "    axs[0].plot(range(1,len(model_history.history['val_accuracy'])+1),model_history.history['val_accuracy'])\n",
        "    axs[0].set_title('Model Accuracy')\n",
        "    axs[0].set_ylabel('Accuracy')\n",
        "    axs[0].set_xlabel('Epoch')\n",
        "    axs[0].set_xticks(np.arange(1,len(model_history.history['accuracy'])+1),len(model_history.history['accuracy'])/10)\n",
        "    axs[0].legend(['train', 'val'], loc='best')\n",
        "    # summarize history for loss\n",
        "    axs[1].plot(range(1,len(model_history.history['loss'])+1),model_history.history['loss'])\n",
        "    axs[1].plot(range(1,len(model_history.history['val_loss'])+1),model_history.history['val_loss'])\n",
        "    axs[1].set_title('Model Loss')\n",
        "    axs[1].set_ylabel('Loss')\n",
        "    axs[1].set_xlabel('Epoch')\n",
        "    axs[1].set_xticks(np.arange(1,len(model_history.history['loss'])+1),len(model_history.history['loss'])/10)\n",
        "    axs[1].legend(['train', 'val'], loc='best')\n",
        "    plt.show()\n",
        "    \n",
        "plot_model_history(model_info)"
      ],
      "execution_count": 11,
      "outputs": [
        {
          "output_type": "display_data",
          "data": {
            "image/png": "[encoded data removed]",
            "text/plain": [
              "<Figure size 1080x360 with 2 Axes>"
            ]
          },
          "metadata": {
            "tags": [],
            "needs_background": "light"
          }
        }
      ]
    },
    {
      "cell_type": "markdown",
      "metadata": {
        "colab_type": "text",
        "id": "Zb2Lz5-cnfEh"
      },
      "source": [
        "<a id=section2></a>"
      ]
    },
    {
      "cell_type": "markdown",
      "metadata": {
        "colab_type": "text",
        "id": "vHJCGl-ZnfEi"
      },
      "source": [
        "# Experiment with Components"
      ]
    },
    {
      "cell_type": "markdown",
      "metadata": {
        "colab_type": "text",
        "id": "5dTqIMdAnfEk"
      },
      "source": [
        "## 1. Original Model Testing"
      ]
    },
    {
      "cell_type": "code",
      "metadata": {
        "colab_type": "code",
        "id": "maw2h8kGnfEl",
        "colab": {}
      },
      "source": [
        "def accuracy(test_x, test_y, model):\n",
        "    result = model.predict(test_x)\n",
        "    predicted_class = np.argmax(result, axis=1)\n",
        "    true_class = np.argmax(test_y, axis=1)\n",
        "    num_correct = np.sum(predicted_class == true_class) \n",
        "    accuracy = float(num_correct)/result.shape[0]\n",
        "    return (round(accuracy * 100, 2))"
      ],
      "execution_count": 12,
      "outputs": []
    },
    {
      "cell_type": "code",
      "metadata": {
        "id": "m3-tVm4fHy6v",
        "colab_type": "code",
        "colab": {
          "base_uri": "https://localhost:8080/",
          "height": 0
        },
        "outputId": "a6fb10e7-028e-437d-e901-669ca52f7169"
      },
      "source": [
        "model_accuracy = accuracy(test_features, test_labels, model)\n",
        "print(\"Accuracy on Test data is: {}%\".format(model_accuracy))"
      ],
      "execution_count": 13,
      "outputs": [
        {
          "output_type": "stream",
          "text": [
            "Accuracy on Test data is: 83.47%\n"
          ],
          "name": "stdout"
        }
      ]
    },
    {
      "cell_type": "markdown",
      "metadata": {
        "colab_type": "text",
        "id": "o3Bbx9mmnfEt"
      },
      "source": [
        "### Observation - \n",
        "* Both __training and validation accuracy increase as the number of epochs increase.__ \n",
        "* More information is learned in each epoch."
      ]
    },
    {
      "cell_type": "markdown",
      "metadata": {
        "colab_type": "text",
        "id": "ynBobHSHnfEv"
      },
      "source": [
        "## 2. Vary the Learning Rate"
      ]
    },
    {
      "cell_type": "markdown",
      "metadata": {
        "colab_type": "text",
        "id": "pTExDZIenfEx"
      },
      "source": [
        "### Decrease the learning rate - "
      ]
    },
    {
      "cell_type": "code",
      "metadata": {
        "colab_type": "code",
        "id": "VaC4jmHcnfEz",
        "colab": {}
      },
      "source": [
        "# define model\n",
        "model = simple_nn()\n",
        "\n",
        "# define optimizer\n",
        "sgd = SGD(lr=0.001)  # Learning Rate used in the earlier model was 0.01\n",
        "\n",
        "# Compiling the model\n",
        "model.compile(optimizer=sgd, loss='mse', metrics=['accuracy'])"
      ],
      "execution_count": 14,
      "outputs": []
    },
    {
      "cell_type": "markdown",
      "metadata": {
        "id": "jOROCry-Hy7D",
        "colab_type": "text"
      },
      "source": [
        "Train the model again with new learning rate"
      ]
    },
    {
      "cell_type": "code",
      "metadata": {
        "id": "0mewoqcaHy7F",
        "colab_type": "code",
        "colab": {
          "base_uri": "https://localhost:8080/",
          "height": 0
        },
        "outputId": "62d64b76-3799-48b6-f4fe-e3e41e581c25"
      },
      "source": [
        "start = time.time()\n",
        "model_info = model.fit(train_features, train_labels, \n",
        "                       batch_size=64,\n",
        "                       epochs=10, \n",
        "                       verbose=0, \n",
        "                       validation_split=0.2)\n",
        "end = time.time()\n",
        "\n",
        "# plot model history\n",
        "plot_model_history(model_info)\n",
        "\n",
        "# Time taken\n",
        "total_time = round(end - start, 2)\n",
        "print(\"Model took {} seconds to train\".format(total_time))\n",
        "\n",
        "# compute test accuracy\n",
        "model_accuracy = accuracy(test_features, test_labels, model)\n",
        "print(\"Accuracy on Test data is: {}%\".format(model_accuracy))"
      ],
      "execution_count": 15,
      "outputs": [
        {
          "output_type": "display_data",
          "data": {
            "image/png": "[encoded data removed]",
            "text/plain": [
              "<Figure size 1080x360 with 2 Axes>"
            ]
          },
          "metadata": {
            "tags": [],
            "needs_background": "light"
          }
        },
        {
          "output_type": "stream",
          "text": [
            "Model took 11.26 seconds to train\n",
            "Accuracy on Test data is: 25.34%\n"
          ],
          "name": "stdout"
        }
      ]
    },
    {
      "cell_type": "markdown",
      "metadata": {
        "colab_type": "text",
        "id": "2g8yeiASnfE7"
      },
      "source": [
        "### Increase the learning rate -"
      ]
    },
    {
      "cell_type": "code",
      "metadata": {
        "colab_type": "code",
        "id": "ATS4nYiKnfE8",
        "colab": {}
      },
      "source": [
        "# define model\n",
        "model = simple_nn()\n",
        "\n",
        "# define optimizer\n",
        "sgd = SGD(lr=0.1)  # Learning Rate used in the earlier model was 0.01\n",
        "\n",
        "# Compiling the model\n",
        "model.compile(optimizer=sgd, loss='mse', metrics=['accuracy'])"
      ],
      "execution_count": 16,
      "outputs": []
    },
    {
      "cell_type": "markdown",
      "metadata": {
        "id": "Hjck6b2bHy7X",
        "colab_type": "text"
      },
      "source": [
        "Train the model again with new learning rate"
      ]
    },
    {
      "cell_type": "code",
      "metadata": {
        "id": "XBPe4DDeHy7Y",
        "colab_type": "code",
        "colab": {
          "base_uri": "https://localhost:8080/",
          "height": 0
        },
        "outputId": "0dae878f-a767-49ed-d98c-36c7c1d118f8"
      },
      "source": [
        "start = time.time()\n",
        "model_info = model.fit(train_features, train_labels, \n",
        "                       batch_size=64,\n",
        "                       epochs=10, \n",
        "                       verbose=1, \n",
        "                       validation_split=0.2)\n",
        "end = time.time()\n",
        "\n",
        "# plot model history\n",
        "plot_model_history(model_info)\n",
        "\n",
        "# Time taken\n",
        "total_time = round(end - start, 2)\n",
        "print(\"Model took {} seconds to train\".format(total_time))\n",
        "\n",
        "# compute test accuracy\n",
        "model_accuracy = accuracy(test_features, test_labels, model)\n",
        "print(\"Accuracy on Test data is: {}%\".format(model_accuracy))"
      ],
      "execution_count": 17,
      "outputs": [
        {
          "output_type": "stream",
          "text": [
            "Epoch 1/10\n",
            "750/750 [==============================] - 1s 2ms/step - loss: 0.0546 - accuracy: 0.6209 - val_loss: 0.0325 - val_accuracy: 0.8271\n",
            "Epoch 2/10\n",
            "750/750 [==============================] - 1s 2ms/step - loss: 0.0276 - accuracy: 0.8490 - val_loss: 0.0217 - val_accuracy: 0.8836\n",
            "Epoch 3/10\n",
            "750/750 [==============================] - 1s 2ms/step - loss: 0.0211 - accuracy: 0.8815 - val_loss: 0.0182 - val_accuracy: 0.8972\n",
            "Epoch 4/10\n",
            "750/750 [==============================] - 1s 2ms/step - loss: 0.0182 - accuracy: 0.8941 - val_loss: 0.0164 - val_accuracy: 0.9050\n",
            "Epoch 5/10\n",
            "750/750 [==============================] - 1s 2ms/step - loss: 0.0164 - accuracy: 0.9027 - val_loss: 0.0149 - val_accuracy: 0.9107\n",
            "Epoch 6/10\n",
            "750/750 [==============================] - 1s 2ms/step - loss: 0.0152 - accuracy: 0.9096 - val_loss: 0.0142 - val_accuracy: 0.9133\n",
            "Epoch 7/10\n",
            "750/750 [==============================] - 1s 2ms/step - loss: 0.0144 - accuracy: 0.9141 - val_loss: 0.0135 - val_accuracy: 0.9176\n",
            "Epoch 8/10\n",
            "750/750 [==============================] - 1s 2ms/step - loss: 0.0135 - accuracy: 0.9200 - val_loss: 0.0129 - val_accuracy: 0.9223\n",
            "Epoch 9/10\n",
            "750/750 [==============================] - 1s 2ms/step - loss: 0.0127 - accuracy: 0.9230 - val_loss: 0.0124 - val_accuracy: 0.9236\n",
            "Epoch 10/10\n",
            "750/750 [==============================] - 1s 2ms/step - loss: 0.0123 - accuracy: 0.9266 - val_loss: 0.0121 - val_accuracy: 0.9239\n"
          ],
          "name": "stdout"
        },
        {
          "output_type": "display_data",
          "data": {
            "image/png": "[encoded data removed]",
            "text/plain": [
              "<Figure size 1080x360 with 2 Axes>"
            ]
          },
          "metadata": {
            "tags": [],
            "needs_background": "light"
          }
        },
        {
          "output_type": "stream",
          "text": [
            "Model took 13.25 seconds to train\n",
            "Accuracy on Test data is: 92.49%\n"
          ],
          "name": "stdout"
        }
      ]
    },
    {
      "cell_type": "markdown",
      "metadata": {
        "colab_type": "text",
        "id": "0HD--1FKnfFB"
      },
      "source": [
        "### Observation - \n",
        "* If the __learning rate is decreased__, __less information is learned__ in each epoch and __more epochs are required to learn a good model.__ \n",
        "* If the __learning rate is increased, more information is learned__ in each epoch and __less epochs are required to learn a good model.__"
      ]
    },
    {
      "cell_type": "markdown",
      "metadata": {
        "colab_type": "text",
        "id": "AojodoOZnfFC"
      },
      "source": [
        "## 3. Use Adam Optimizer instead of SGD"
      ]
    },
    {
      "cell_type": "code",
      "metadata": {
        "colab_type": "code",
        "id": "FkkckME6nfFC",
        "scrolled": true,
        "colab": {}
      },
      "source": [
        "# Define model\n",
        "model = simple_nn()\n",
        "\n",
        "# Compile the model\n",
        "model.compile(optimizer='adam', loss='mse', metrics=['accuracy'])"
      ],
      "execution_count": 18,
      "outputs": []
    },
    {
      "cell_type": "code",
      "metadata": {
        "id": "vw4ZaDjiHy7n",
        "colab_type": "code",
        "colab": {
          "base_uri": "https://localhost:8080/",
          "height": 741
        },
        "outputId": "3f7f2a7b-1200-4013-b2c0-c33ffcb6c3b8"
      },
      "source": [
        "start = time.time()\n",
        "model_info = model.fit(train_features, train_labels, \n",
        "                       batch_size=64,\n",
        "                       epochs=10, \n",
        "                       verbose=1, \n",
        "                       validation_split=0.2)\n",
        "end = time.time()\n",
        "\n",
        "# plot model history\n",
        "plot_model_history(model_info)\n",
        "\n",
        "# Time taken\n",
        "total_time = round(end - start, 2)\n",
        "print(\"Model took {} seconds to train\".format(total_time))\n",
        "\n",
        "# compute test accuracy\n",
        "model_accuracy = accuracy(test_features, test_labels, model)\n",
        "print(\"Accuracy on Test data is: {}%\".format(model_accuracy))"
      ],
      "execution_count": 19,
      "outputs": [
        {
          "output_type": "stream",
          "text": [
            "Epoch 1/10\n",
            "750/750 [==============================] - 2s 2ms/step - loss: 0.0285 - accuracy: 0.8222 - val_loss: 0.0177 - val_accuracy: 0.8954\n",
            "Epoch 2/10\n",
            "750/750 [==============================] - 1s 2ms/step - loss: 0.0168 - accuracy: 0.8976 - val_loss: 0.0148 - val_accuracy: 0.9062\n",
            "Epoch 3/10\n",
            "750/750 [==============================] - 1s 2ms/step - loss: 0.0153 - accuracy: 0.9046 - val_loss: 0.0133 - val_accuracy: 0.9155\n",
            "Epoch 4/10\n",
            "750/750 [==============================] - 1s 2ms/step - loss: 0.0141 - accuracy: 0.9109 - val_loss: 0.0146 - val_accuracy: 0.9111\n",
            "Epoch 5/10\n",
            "750/750 [==============================] - 1s 2ms/step - loss: 0.0146 - accuracy: 0.9077 - val_loss: 0.0133 - val_accuracy: 0.9157\n",
            "Epoch 6/10\n",
            "750/750 [==============================] - 1s 2ms/step - loss: 0.0135 - accuracy: 0.9129 - val_loss: 0.0129 - val_accuracy: 0.9172\n",
            "Epoch 7/10\n",
            "750/750 [==============================] - 1s 2ms/step - loss: 0.0136 - accuracy: 0.9126 - val_loss: 0.0130 - val_accuracy: 0.9155\n",
            "Epoch 8/10\n",
            "750/750 [==============================] - 1s 2ms/step - loss: 0.0131 - accuracy: 0.9162 - val_loss: 0.0118 - val_accuracy: 0.9235\n",
            "Epoch 9/10\n",
            "750/750 [==============================] - 1s 2ms/step - loss: 0.0132 - accuracy: 0.9134 - val_loss: 0.0126 - val_accuracy: 0.9161\n",
            "Epoch 10/10\n",
            "750/750 [==============================] - 1s 2ms/step - loss: 0.0122 - accuracy: 0.9212 - val_loss: 0.0115 - val_accuracy: 0.9247\n"
          ],
          "name": "stdout"
        },
        {
          "output_type": "display_data",
          "data": {
            "image/png": "[encoded data removed]",
            "text/plain": [
              "<Figure size 1080x360 with 2 Axes>"
            ]
          },
          "metadata": {
            "tags": [],
            "needs_background": "light"
          }
        },
        {
          "output_type": "stream",
          "text": [
            "Model took 14.52 seconds to train\n",
            "Accuracy on Test data is: 92.15%\n"
          ],
          "name": "stdout"
        }
      ]
    },
    {
      "cell_type": "markdown",
      "metadata": {
        "colab_type": "text",
        "id": "M1npg1G1nfFG"
      },
      "source": [
        "### Observation - \n",
        "Using Adam optimizer, we __don’t need to specify a learning rate. However, the training time increases.__"
      ]
    },
    {
      "cell_type": "markdown",
      "metadata": {
        "colab_type": "text",
        "id": "jSbKB1t8nfFH"
      },
      "source": [
        "## 4. Vary the Batch Size"
      ]
    },
    {
      "cell_type": "markdown",
      "metadata": {
        "colab_type": "text",
        "id": "cJDZ7ocHnfFH"
      },
      "source": [
        "### Decreasing the Batch Size to - 32"
      ]
    },
    {
      "cell_type": "code",
      "metadata": {
        "colab_type": "code",
        "id": "t8RCnHNonfFI",
        "scrolled": false,
        "colab": {}
      },
      "source": [
        "# Define model\n",
        "model = simple_nn()\n",
        "\n",
        "# Compile the model\n",
        "model.compile(optimizer='adam', loss='mse', metrics=['accuracy'])"
      ],
      "execution_count": 20,
      "outputs": []
    },
    {
      "cell_type": "code",
      "metadata": {
        "id": "ltN7KPzUHy77",
        "colab_type": "code",
        "colab": {
          "base_uri": "https://localhost:8080/",
          "height": 0
        },
        "outputId": "c721e760-7f00-4a88-bd44-1bdda2435f40"
      },
      "source": [
        "start = time.time()\n",
        "model_info = model.fit(train_features, train_labels, \n",
        "                       batch_size=32,  # The batch-size in earlier models was 64\n",
        "                       epochs=10, \n",
        "                       verbose=1, \n",
        "                       validation_split=0.2)\n",
        "end = time.time()\n",
        "\n",
        "# plot model history\n",
        "plot_model_history(model_info)\n",
        "\n",
        "# Time taken\n",
        "total_time = round(end - start, 2)\n",
        "print(\"Model took {} seconds to train\".format(total_time))\n",
        "\n",
        "# compute test accuracy\n",
        "model_accuracy = accuracy(test_features, test_labels, model)\n",
        "print(\"Accuracy on Test data is: {}%\".format(model_accuracy))"
      ],
      "execution_count": 21,
      "outputs": [
        {
          "output_type": "stream",
          "text": [
            "Epoch 1/10\n",
            "1500/1500 [==============================] - 2s 2ms/step - loss: 0.0275 - accuracy: 0.8310 - val_loss: 0.0173 - val_accuracy: 0.8928\n",
            "Epoch 2/10\n",
            "1500/1500 [==============================] - 2s 2ms/step - loss: 0.0181 - accuracy: 0.8882 - val_loss: 0.0174 - val_accuracy: 0.8922\n",
            "Epoch 3/10\n",
            "1500/1500 [==============================] - 2s 2ms/step - loss: 0.0169 - accuracy: 0.8939 - val_loss: 0.0157 - val_accuracy: 0.8999\n",
            "Epoch 4/10\n",
            "1500/1500 [==============================] - 2s 2ms/step - loss: 0.0155 - accuracy: 0.9019 - val_loss: 0.0146 - val_accuracy: 0.9063\n",
            "Epoch 5/10\n",
            "1500/1500 [==============================] - 2s 2ms/step - loss: 0.0152 - accuracy: 0.9024 - val_loss: 0.0134 - val_accuracy: 0.9130\n",
            "Epoch 6/10\n",
            "1500/1500 [==============================] - 2s 2ms/step - loss: 0.0140 - accuracy: 0.9086 - val_loss: 0.0130 - val_accuracy: 0.9130\n",
            "Epoch 7/10\n",
            "1500/1500 [==============================] - 2s 2ms/step - loss: 0.0140 - accuracy: 0.9071 - val_loss: 0.0125 - val_accuracy: 0.9181\n",
            "Epoch 8/10\n",
            "1500/1500 [==============================] - 2s 2ms/step - loss: 0.0134 - accuracy: 0.9133 - val_loss: 0.0128 - val_accuracy: 0.9179\n",
            "Epoch 9/10\n",
            "1500/1500 [==============================] - 2s 2ms/step - loss: 0.0138 - accuracy: 0.9095 - val_loss: 0.0120 - val_accuracy: 0.9230\n",
            "Epoch 10/10\n",
            "1500/1500 [==============================] - 2s 2ms/step - loss: 0.0135 - accuracy: 0.9119 - val_loss: 0.0130 - val_accuracy: 0.9129\n"
          ],
          "name": "stdout"
        },
        {
          "output_type": "display_data",
          "data": {
            "image/png": "[encoded data removed]",
            "text/plain": [
              "<Figure size 1080x360 with 2 Axes>"
            ]
          },
          "metadata": {
            "tags": [],
            "needs_background": "light"
          }
        },
        {
          "output_type": "stream",
          "text": [
            "Model took 23.71 seconds to train\n",
            "Accuracy on Test data is: 91.13%\n"
          ],
          "name": "stdout"
        }
      ]
    },
    {
      "cell_type": "markdown",
      "metadata": {
        "colab_type": "text",
        "id": "RC-nT15jnfFL"
      },
      "source": [
        "### Observation - \n",
        "Decreasing the batch size __increases the training time while increasing the rate of learning.__"
      ]
    },
    {
      "cell_type": "markdown",
      "metadata": {
        "colab_type": "text",
        "id": "lSXQPYzpnfFM"
      },
      "source": [
        "### Increasing the Batch Size to - 128"
      ]
    },
    {
      "cell_type": "code",
      "metadata": {
        "colab_type": "code",
        "scrolled": false,
        "id": "SbmSWRc4Hy8E",
        "colab": {}
      },
      "source": [
        "# Define model\n",
        "model = simple_nn()\n",
        "\n",
        "# Compile the model\n",
        "model.compile(optimizer='adam', loss='mse', metrics=['accuracy'])"
      ],
      "execution_count": 22,
      "outputs": []
    },
    {
      "cell_type": "markdown",
      "metadata": {
        "id": "iBCqmPxyHy8J",
        "colab_type": "text"
      },
      "source": [
        "Fitting the model"
      ]
    },
    {
      "cell_type": "code",
      "metadata": {
        "scrolled": false,
        "id": "GNlSYNL3Hy8K",
        "colab_type": "code",
        "colab": {
          "base_uri": "https://localhost:8080/",
          "height": 0
        },
        "outputId": "c2db017e-729b-4251-83ed-35f93b285895"
      },
      "source": [
        "start = time.time()\n",
        "model_info = model.fit(train_features, train_labels, \n",
        "                       batch_size=128,  # The batch-size in earlier models was 64\n",
        "                       epochs=10, \n",
        "                       verbose=1, \n",
        "                       validation_split=0.2)\n",
        "end = time.time()\n",
        "\n",
        "# plot model history\n",
        "plot_model_history(model_info)\n",
        "\n",
        "# Time taken\n",
        "total_time = round(end - start, 2)\n",
        "print(\"Model took {} seconds to train\".format(total_time))\n",
        "\n",
        "# compute test accuracy\n",
        "model_accuracy = accuracy(test_features, test_labels, model)\n",
        "print(\"Accuracy on Test data is: {}%\".format(model_accuracy))"
      ],
      "execution_count": 23,
      "outputs": [
        {
          "output_type": "stream",
          "text": [
            "Epoch 1/10\n",
            "375/375 [==============================] - 1s 3ms/step - loss: 0.0310 - accuracy: 0.8068 - val_loss: 0.0169 - val_accuracy: 0.8989\n",
            "Epoch 2/10\n",
            "375/375 [==============================] - 1s 3ms/step - loss: 0.0166 - accuracy: 0.8977 - val_loss: 0.0143 - val_accuracy: 0.9122\n",
            "Epoch 3/10\n",
            "375/375 [==============================] - 1s 3ms/step - loss: 0.0145 - accuracy: 0.9104 - val_loss: 0.0130 - val_accuracy: 0.9192\n",
            "Epoch 4/10\n",
            "375/375 [==============================] - 1s 3ms/step - loss: 0.0136 - accuracy: 0.9148 - val_loss: 0.0130 - val_accuracy: 0.9184\n",
            "Epoch 5/10\n",
            "375/375 [==============================] - 1s 3ms/step - loss: 0.0136 - accuracy: 0.9148 - val_loss: 0.0120 - val_accuracy: 0.9220\n",
            "Epoch 6/10\n",
            "375/375 [==============================] - 1s 3ms/step - loss: 0.0127 - accuracy: 0.9200 - val_loss: 0.0117 - val_accuracy: 0.9267\n",
            "Epoch 7/10\n",
            "375/375 [==============================] - 1s 3ms/step - loss: 0.0122 - accuracy: 0.9233 - val_loss: 0.0112 - val_accuracy: 0.9286\n",
            "Epoch 8/10\n",
            "375/375 [==============================] - 1s 3ms/step - loss: 0.0116 - accuracy: 0.9259 - val_loss: 0.0104 - val_accuracy: 0.9355\n",
            "Epoch 9/10\n",
            "375/375 [==============================] - 1s 3ms/step - loss: 0.0115 - accuracy: 0.9268 - val_loss: 0.0110 - val_accuracy: 0.9305\n",
            "Epoch 10/10\n",
            "375/375 [==============================] - 1s 3ms/step - loss: 0.0112 - accuracy: 0.9293 - val_loss: 0.0108 - val_accuracy: 0.9300\n"
          ],
          "name": "stdout"
        },
        {
          "output_type": "display_data",
          "data": {
            "image/png": "[encoded data removed]",
            "text/plain": [
              "<Figure size 1080x360 with 2 Axes>"
            ]
          },
          "metadata": {
            "tags": [],
            "needs_background": "light"
          }
        },
        {
          "output_type": "stream",
          "text": [
            "Model took 10.92 seconds to train\n",
            "Accuracy on Test data is: 92.87%\n"
          ],
          "name": "stdout"
        }
      ]
    },
    {
      "cell_type": "markdown",
      "metadata": {
        "colab_type": "text",
        "id": "DA89FyrTnfFV"
      },
      "source": [
        "### Observation - \n",
        "Increasing the batch size __decreases the training time but reduces the rate of learning.__"
      ]
    },
    {
      "cell_type": "markdown",
      "metadata": {
        "colab_type": "text",
        "id": "mVVJ4_VinfFX"
      },
      "source": [
        "## 5. Cost Function as Categorical Crossentropy"
      ]
    },
    {
      "cell_type": "code",
      "metadata": {
        "colab_type": "code",
        "scrolled": true,
        "id": "tw1mBFVhHy8T",
        "colab": {}
      },
      "source": [
        "# Define model\n",
        "model = simple_nn()\n",
        "\n",
        "# Compile the model\n",
        "model.compile(optimizer='adam', loss='categorical_crossentropy', metrics=['accuracy'])"
      ],
      "execution_count": 24,
      "outputs": []
    },
    {
      "cell_type": "markdown",
      "metadata": {
        "id": "vO3iKZF6Hy8a",
        "colab_type": "text"
      },
      "source": [
        "Fitting the model"
      ]
    },
    {
      "cell_type": "code",
      "metadata": {
        "colab_type": "code",
        "id": "cO-xDnhwnfFY",
        "scrolled": false,
        "colab": {
          "base_uri": "https://localhost:8080/",
          "height": 741
        },
        "outputId": "1191d93e-8863-4e1e-ef7d-96e8844691f6"
      },
      "source": [
        "start = time.time()\n",
        "model_info = model.fit(train_features, train_labels, \n",
        "                       batch_size=128,\n",
        "                       epochs=10, \n",
        "                       verbose=1, \n",
        "                       validation_split=0.2)\n",
        "end = time.time()\n",
        "\n",
        "# plot model history\n",
        "plot_model_history(model_info)\n",
        "\n",
        "# Time taken\n",
        "total_time = round(end - start, 2)\n",
        "print(\"Model took {} seconds to train\".format(total_time))\n",
        "\n",
        "# compute test accuracy\n",
        "model_accuracy = accuracy(test_features, test_labels, model)\n",
        "print(\"Accuracy on Test data is: {}%\".format(model_accuracy))"
      ],
      "execution_count": 25,
      "outputs": [
        {
          "output_type": "stream",
          "text": [
            "Epoch 1/10\n",
            "375/375 [==============================] - 1s 3ms/step - loss: 0.7239 - accuracy: 0.8085 - val_loss: 0.3995 - val_accuracy: 0.8941\n",
            "Epoch 2/10\n",
            "375/375 [==============================] - 1s 3ms/step - loss: 0.3735 - accuracy: 0.8960 - val_loss: 0.3089 - val_accuracy: 0.9142\n",
            "Epoch 3/10\n",
            "375/375 [==============================] - 1s 3ms/step - loss: 0.3167 - accuracy: 0.9091 - val_loss: 0.2913 - val_accuracy: 0.9197\n",
            "Epoch 4/10\n",
            "375/375 [==============================] - 1s 3ms/step - loss: 0.2921 - accuracy: 0.9164 - val_loss: 0.2686 - val_accuracy: 0.9236\n",
            "Epoch 5/10\n",
            "375/375 [==============================] - 1s 3ms/step - loss: 0.2836 - accuracy: 0.9168 - val_loss: 0.2668 - val_accuracy: 0.9227\n",
            "Epoch 6/10\n",
            "375/375 [==============================] - 1s 3ms/step - loss: 0.2703 - accuracy: 0.9198 - val_loss: 0.2578 - val_accuracy: 0.9250\n",
            "Epoch 7/10\n",
            "375/375 [==============================] - 1s 3ms/step - loss: 0.2580 - accuracy: 0.9236 - val_loss: 0.2504 - val_accuracy: 0.9258\n",
            "Epoch 8/10\n",
            "375/375 [==============================] - 1s 3ms/step - loss: 0.2593 - accuracy: 0.9236 - val_loss: 0.2476 - val_accuracy: 0.9286\n",
            "Epoch 9/10\n",
            "375/375 [==============================] - 1s 3ms/step - loss: 0.2450 - accuracy: 0.9269 - val_loss: 0.2349 - val_accuracy: 0.9297\n",
            "Epoch 10/10\n",
            "375/375 [==============================] - 1s 3ms/step - loss: 0.2347 - accuracy: 0.9308 - val_loss: 0.2222 - val_accuracy: 0.9348\n"
          ],
          "name": "stdout"
        },
        {
          "output_type": "display_data",
          "data": {
            "image/png": "[encoded data removed]",
            "text/plain": [
              "<Figure size 1080x360 with 2 Axes>"
            ]
          },
          "metadata": {
            "tags": [],
            "needs_background": "light"
          }
        },
        {
          "output_type": "stream",
          "text": [
            "Model took 10.98 seconds to train\n",
            "Accuracy on Test data is: 93.55%\n"
          ],
          "name": "stdout"
        }
      ]
    },
    {
      "cell_type": "markdown",
      "metadata": {
        "colab_type": "text",
        "id": "3yyMimqunfFb"
      },
      "source": [
        "### Observation - \n",
        "* Changing the cost function to categorical crossentropy __reduced the training time.__ \n",
        "* The decrease in training time is significant when using SGD for this experiment."
      ]
    },
    {
      "cell_type": "markdown",
      "metadata": {
        "colab_type": "text",
        "id": "ObqWdvoUnfFc"
      },
      "source": [
        "## 6. Increase the Number of Epochs"
      ]
    },
    {
      "cell_type": "code",
      "metadata": {
        "colab_type": "code",
        "scrolled": true,
        "id": "GOR77y1EHy8k",
        "colab": {}
      },
      "source": [
        "# Define model\n",
        "model = simple_nn()\n",
        "\n",
        "# Compile the model\n",
        "model.compile(optimizer='adam', loss='categorical_crossentropy', metrics=['accuracy'])"
      ],
      "execution_count": 26,
      "outputs": []
    },
    {
      "cell_type": "markdown",
      "metadata": {
        "id": "NlxoD-kUHy8q",
        "colab_type": "text"
      },
      "source": [
        "Fitting the model"
      ]
    },
    {
      "cell_type": "code",
      "metadata": {
        "colab_type": "code",
        "scrolled": false,
        "id": "cOY6NIEPHy8r",
        "colab": {
          "base_uri": "https://localhost:8080/",
          "height": 656
        },
        "outputId": "22c5372e-3356-4032-db4f-a08331b2cb5b"
      },
      "source": [
        "start = time.time()\n",
        "model_info = model.fit(train_features, train_labels, \n",
        "                       batch_size=128,\n",
        "                       epochs=50, \n",
        "                       verbose=1, \n",
        "                       validation_split=0.2)\n",
        "end = time.time()\n",
        "\n",
        "# plot model history\n",
        "plot_model_history(model_info)\n",
        "\n",
        "# Time taken\n",
        "total_time = round(end - start, 2)\n",
        "print(\"Model took {} seconds to train\".format(total_time))\n",
        "\n",
        "# compute test accuracy\n",
        "model_accuracy = accuracy(test_features, test_labels, model)\n",
        "print(\"Accuracy on Test data is: {}%\".format(model_accuracy))"
      ],
      "execution_count": null,
      "outputs": [
        {
          "output_type": "stream",
          "text": [
            "Epoch 1/50\n",
            "375/375 [==============================] - 1s 3ms/step - loss: 0.7056 - accuracy: 0.8110 - val_loss: 0.3921 - val_accuracy: 0.8937\n",
            "Epoch 2/50\n",
            "375/375 [==============================] - 1s 3ms/step - loss: 0.3711 - accuracy: 0.8980 - val_loss: 0.3181 - val_accuracy: 0.9096\n",
            "Epoch 3/50\n",
            "375/375 [==============================] - 1s 3ms/step - loss: 0.3171 - accuracy: 0.9096 - val_loss: 0.2872 - val_accuracy: 0.9175\n",
            "Epoch 4/50\n",
            "375/375 [==============================] - 1s 3ms/step - loss: 0.2915 - accuracy: 0.9167 - val_loss: 0.2874 - val_accuracy: 0.9162\n",
            "Epoch 5/50\n",
            "375/375 [==============================] - 1s 3ms/step - loss: 0.2781 - accuracy: 0.9193 - val_loss: 0.2629 - val_accuracy: 0.9262\n",
            "Epoch 6/50\n",
            "375/375 [==============================] - 1s 3ms/step - loss: 0.2623 - accuracy: 0.9244 - val_loss: 0.2408 - val_accuracy: 0.9305\n",
            "Epoch 7/50\n",
            "375/375 [==============================] - 1s 3ms/step - loss: 0.2379 - accuracy: 0.9296 - val_loss: 0.2452 - val_accuracy: 0.9253\n",
            "Epoch 8/50\n",
            "375/375 [==============================] - 1s 3ms/step - loss: 0.2380 - accuracy: 0.9305 - val_loss: 0.2257 - val_accuracy: 0.9344\n",
            "Epoch 9/50\n",
            "375/375 [==============================] - 1s 3ms/step - loss: 0.2444 - accuracy: 0.9279 - val_loss: 0.2443 - val_accuracy: 0.9285\n",
            "Epoch 10/50\n",
            "375/375 [==============================] - 1s 3ms/step - loss: 0.2399 - accuracy: 0.9284 - val_loss: 0.2344 - val_accuracy: 0.9298\n",
            "Epoch 11/50\n",
            "375/375 [==============================] - 1s 3ms/step - loss: 0.2320 - accuracy: 0.9308 - val_loss: 0.2172 - val_accuracy: 0.9363\n",
            "Epoch 12/50\n",
            "375/375 [==============================] - 1s 3ms/step - loss: 0.2245 - accuracy: 0.9333 - val_loss: 0.2233 - val_accuracy: 0.9333\n",
            "Epoch 13/50\n",
            "375/375 [==============================] - 1s 3ms/step - loss: 0.2148 - accuracy: 0.9352 - val_loss: 0.2063 - val_accuracy: 0.9405\n",
            "Epoch 14/50\n",
            "375/375 [==============================] - 1s 3ms/step - loss: 0.2118 - accuracy: 0.9367 - val_loss: 0.2181 - val_accuracy: 0.9363\n",
            "Epoch 15/50\n",
            "375/375 [==============================] - 1s 3ms/step - loss: 0.2078 - accuracy: 0.9382 - val_loss: 0.2142 - val_accuracy: 0.9378\n",
            "Epoch 16/50\n",
            "375/375 [==============================] - 1s 3ms/step - loss: 0.2143 - accuracy: 0.9364 - val_loss: 0.2107 - val_accuracy: 0.9372\n",
            "Epoch 17/50\n",
            "375/375 [==============================] - 1s 3ms/step - loss: 0.1994 - accuracy: 0.9406 - val_loss: 0.1991 - val_accuracy: 0.9413\n",
            "Epoch 18/50\n",
            "147/375 [==========>...................] - ETA: 0s - loss: 0.1952 - accuracy: 0.9418"
          ],
          "name": "stdout"
        }
      ]
    },
    {
      "cell_type": "markdown",
      "metadata": {
        "colab_type": "text",
        "id": "2JfVbBqdnfFf"
      },
      "source": [
        "### Observation - \n",
        "* As the number of epochs increase, more information is learned. \n",
        "* The __training as well as validation accuracy increases and then stabilizes.__"
      ]
    },
    {
      "cell_type": "markdown",
      "metadata": {
        "colab_type": "text",
        "id": "i8b9zdWcnfFf"
      },
      "source": [
        "## 7. Deep Neural Network"
      ]
    },
    {
      "cell_type": "markdown",
      "metadata": {
        "id": "TYvh7lsRHy80",
        "colab_type": "text"
      },
      "source": [
        "Lets define a Deep Neural Network Model"
      ]
    },
    {
      "cell_type": "code",
      "metadata": {
        "colab_type": "code",
        "id": "xxVas3apnfFg",
        "colab": {}
      },
      "source": [
        "def deep_nn():\n",
        "    # Define a deep neural network\n",
        "    model = Sequential()\n",
        "    # Adding Hidden Layers\n",
        "    model.add(Dense(512, activation='relu', input_dim=num_input_nodes))\n",
        "    model.add(Dense(256, activation='relu'))\n",
        "    model.add(Dense(128, activation='relu'))\n",
        "    model.add(Dense(64, activation='relu'))\n",
        "    # Adding Output Layer\n",
        "    model.add(Dense(num_classes, activation='softmax'))\n",
        "    return model"
      ],
      "execution_count": null,
      "outputs": []
    },
    {
      "cell_type": "markdown",
      "metadata": {
        "id": "NyohGm4dHy89",
        "colab_type": "text"
      },
      "source": [
        "Compile the model"
      ]
    },
    {
      "cell_type": "code",
      "metadata": {
        "colab_type": "code",
        "id": "0suy3XoZnfFi",
        "colab": {}
      },
      "source": [
        "# Define the Deep Neural Network\n",
        "model = deep_nn()\n",
        "\n",
        "# Define optimizer\n",
        "sgd = SGD(lr=0.1)\n",
        "\n",
        "# Compiling the model\n",
        "model.compile(optimizer=sgd, loss='mse', metrics=['accuracy'])"
      ],
      "execution_count": null,
      "outputs": []
    },
    {
      "cell_type": "code",
      "metadata": {
        "id": "2ca19bEcHy9E",
        "colab_type": "code",
        "colab": {}
      },
      "source": [
        "model.summary()"
      ],
      "execution_count": null,
      "outputs": []
    },
    {
      "cell_type": "markdown",
      "metadata": {
        "id": "PWmYtaRFHy9K",
        "colab_type": "text"
      },
      "source": [
        "Fitting the model"
      ]
    },
    {
      "cell_type": "code",
      "metadata": {
        "colab_type": "code",
        "id": "WDQC-cYAHy9L",
        "colab": {}
      },
      "source": [
        "start = time.time()\n",
        "model_info = model.fit(train_features, train_labels, \n",
        "                       batch_size=128,\n",
        "                       epochs=10, \n",
        "                       verbose=1, \n",
        "                       validation_split=0.2)\n",
        "end = time.time()\n",
        "\n",
        "# plot model history\n",
        "plot_model_history(model_info)\n",
        "\n",
        "# Time taken\n",
        "total_time = round(end - start, 2)\n",
        "print(\"Model took {} seconds to train\".format(total_time))\n",
        "\n",
        "# compute test accuracy\n",
        "model_accuracy = accuracy(test_features, test_labels, model)\n",
        "print(\"Accuracy on Test data is: {}%\".format(model_accuracy))"
      ],
      "execution_count": null,
      "outputs": []
    },
    {
      "cell_type": "markdown",
      "metadata": {
        "colab_type": "text",
        "id": "9aTLG7P2nfFn"
      },
      "source": [
        "### Observation - \n",
        "* By adding more hidden layers, __training time as well as information learned in each epoch increases.__ \n",
        "* It helps to improve the performance for complex tasks but __may not help significantly for relatively simple datasets such as MNIST.__"
      ]
    },
    {
      "cell_type": "markdown",
      "metadata": {
        "colab_type": "text",
        "id": "RKU2r8n5nfFo"
      },
      "source": [
        "## 8. Save Model"
      ]
    },
    {
      "cell_type": "markdown",
      "metadata": {
        "colab_type": "text",
        "id": "g_nwGVLanfFo"
      },
      "source": [
        "Specify the directory to save the model - "
      ]
    },
    {
      "cell_type": "code",
      "metadata": {
        "colab_type": "code",
        "id": "1B231Ix6nfFp",
        "colab": {}
      },
      "source": [
        "from keras.callbacks import ModelCheckpoint\n",
        "import os\n",
        "\n",
        "# define a deep neural network\n",
        "model = deep_nn()\n",
        "# define optimizer\n",
        "sgd = SGD(lr=0.1)\n",
        "# Compiling the model\n",
        "model.compile(optimizer=sgd, loss='mse', metrics=['accuracy'])\n",
        "\n",
        "# checkpoint\n",
        "outputFolder = './output-mnist'\n",
        "if not os.path.exists(outputFolder):\n",
        "    os.makedirs(outputFolder)\n",
        "filepath=outputFolder+\"/weights-{epoch:02d}-{val_accuracy:.2f}.hdf5\""
      ],
      "execution_count": null,
      "outputs": []
    },
    {
      "cell_type": "code",
      "metadata": {
        "id": "46SmMYQIHy9e",
        "colab_type": "code",
        "colab": {}
      },
      "source": [
        "filepath"
      ],
      "execution_count": null,
      "outputs": []
    },
    {
      "cell_type": "markdown",
      "metadata": {
        "colab_type": "text",
        "id": "YEIkVUkJnfFr"
      },
      "source": [
        "Checkpoint the model and save after every 10th epoch - "
      ]
    },
    {
      "cell_type": "code",
      "metadata": {
        "colab_type": "code",
        "id": "W1ek4EJenfFr",
        "colab": {}
      },
      "source": [
        "checkpoint = ModelCheckpoint(filepath, monitor='val_accuracy', verbose=1, \n",
        "                             save_best_only=False, save_weights_only=True, \n",
        "                             mode='auto', period=2)\n",
        "callbacks_list = [checkpoint]\n",
        "\n",
        "# train the model\n",
        "model_info = model.fit(train_features, train_labels, \n",
        "                       batch_size=128, \n",
        "                       epochs=10, \n",
        "                       callbacks=callbacks_list, \n",
        "                       verbose=1, \n",
        "                       validation_split=0.2)\n",
        "\n",
        "# compute test accuracy\n",
        "model_accuracy = accuracy(test_features, test_labels, model)\n",
        "print(\"Accuracy on Test data is: {}%\".format(model_accuracy))"
      ],
      "execution_count": null,
      "outputs": []
    },
    {
      "cell_type": "markdown",
      "metadata": {
        "colab_type": "text",
        "id": "wSMousRWnfFv"
      },
      "source": [
        "## 9. Resume Training by Loading a Saved Model"
      ]
    },
    {
      "cell_type": "markdown",
      "metadata": {
        "colab_type": "text",
        "id": "BRyi0p9unfFv"
      },
      "source": [
        "* When __training big models, it is often convenient to break training into steps.__ (Here we load model after epoch 10)\n",
        "* Train when you are not working, work when not training."
      ]
    },
    {
      "cell_type": "code",
      "metadata": {
        "colab_type": "code",
        "id": "3RqH_lyunfFw",
        "colab": {}
      },
      "source": [
        "# define model\n",
        "model = deep_nn()\n",
        "\n",
        "# load weights\n",
        "import os, glob\n",
        "epoch_num = 10\n",
        "outputFolder = './output-mnist'\n",
        "file_ini = outputFolder+'/weights-'+ str(epoch_num)+'*'\n",
        "filename =  glob.glob(file_ini)\n",
        "if os.path.isfile(filename[0]):\n",
        "    model.load_weights(filename[0])\n",
        "else:\n",
        "    print (\"%s does not exist\"%filename[0])\n",
        "\n",
        "# define optimizer\n",
        "sgd = SGD(lr=0.1)\n",
        "model.compile(optimizer=sgd, loss='mse', metrics=['accuracy'])\n",
        "\n",
        "# checkpoint\n",
        "outputFolder = './output-mnist'\n",
        "if not os.path.exists(outputFolder):\n",
        "    os.makedirs(outputFolder)\n",
        "filepath=outputFolder+\"/weights-{epoch:02d}-{val_accuracy:.2f}.hdf5\""
      ],
      "execution_count": null,
      "outputs": []
    },
    {
      "cell_type": "markdown",
      "metadata": {
        "colab_type": "text",
        "id": "4qsjE6eKnfF1"
      },
      "source": [
        "Resume training, save model again for training later - "
      ]
    },
    {
      "cell_type": "code",
      "metadata": {
        "colab_type": "code",
        "id": "3NJsWiOhnfF1",
        "colab": {}
      },
      "source": [
        "filepath=outputFolder+\"/weights-{epoch:02d}-{val_accuracy:.2f}.hdf5\"\n",
        "checkpoint = ModelCheckpoint(filepath, monitor='val_accuracy', verbose=1, \n",
        "                             save_best_only=False, save_weights_only=True,\n",
        "                             mode='auto', period=2)\n",
        "callbacks_list = [checkpoint]\n",
        "\n",
        "# train the model\n",
        "model_info = model.fit(train_features, train_labels, batch_size=128,\n",
        "                       epochs=10, callbacks=callbacks_list, verbose=0,\n",
        "                       validation_split=0.2, initial_epoch = epoch_num+1)\n",
        "\n",
        "# compute test accuracy\n",
        "model_accuracy = accuracy(test_features, test_labels, model)\n",
        "print(\"Accuracy on Test data is: {}%\".format(model_accuracy))"
      ],
      "execution_count": null,
      "outputs": []
    },
    {
      "cell_type": "markdown",
      "metadata": {
        "colab_type": "text",
        "id": "fuUOZmsPnfF5"
      },
      "source": [
        "## 10. Early Stopping"
      ]
    },
    {
      "cell_type": "markdown",
      "metadata": {
        "colab_type": "text",
        "id": "ZWVRQNGSnfF6"
      },
      "source": [
        "* Early stopping helps as a form of regularization, __stopping training before validation loss starts increasing.__\n",
        "* We define a term __patience in stopping as the no. of epochs to wait before termination__, even when loss increases, since it may decrease later."
      ]
    },
    {
      "cell_type": "code",
      "metadata": {
        "colab_type": "code",
        "id": "PQzE8mDinfF7",
        "colab": {}
      },
      "source": [
        "#define model\n",
        "model = deep_nn()\n",
        "\n",
        "# Compiling the model\n",
        "model.compile(optimizer='adam', loss='categorical_crossentropy', metrics=['accuracy'])"
      ],
      "execution_count": null,
      "outputs": []
    },
    {
      "cell_type": "code",
      "metadata": {
        "id": "VPlQdFOxHy-S",
        "colab_type": "code",
        "colab": {}
      },
      "source": [
        "from keras.callbacks import EarlyStopping, ModelCheckpoint"
      ],
      "execution_count": null,
      "outputs": []
    },
    {
      "cell_type": "code",
      "metadata": {
        "id": "x8MfCKEtHy-X",
        "colab_type": "code",
        "colab": {}
      },
      "source": [
        "# Define Early Stopping callback\n",
        "earlystop = EarlyStopping(monitor='val_accuracy', \n",
        "                          min_delta=0.0001, \n",
        "                          patience=2, \n",
        "                          verbose=1, \n",
        "                          mode='auto')\n",
        "\n",
        "# Define ModelCheckpoint callback\n",
        "checkpoint = ModelCheckpoint(filepath, monitor='val_accuracy', \n",
        "                             verbose=1, \n",
        "                             save_best_only=False, \n",
        "                             save_weights_only=True,\n",
        "                             mode='auto', \n",
        "                             period=2)\n",
        "\n",
        "callbacks_list = [earlystop, checkpoint]"
      ],
      "execution_count": null,
      "outputs": []
    },
    {
      "cell_type": "code",
      "metadata": {
        "id": "IQWrlPoxHy-f",
        "colab_type": "code",
        "colab": {}
      },
      "source": [
        "# Train the model\n",
        "start = time.time()\n",
        "model_info = model.fit(train_features, train_labels, \n",
        "                       batch_size=128,\n",
        "                       epochs=50, \n",
        "                       callbacks=callbacks_list, \n",
        "                       verbose=1,\n",
        "                       validation_split=0.2)\n",
        "end = time.time()\n",
        "\n",
        "# Time taken\n",
        "total_time = round(end - start, 2)\n",
        "print(\"Model took {} seconds to train\".format(total_time))\n",
        "\n",
        "# plot model history\n",
        "plot_model_history(model_info)\n",
        "\n",
        "# compute test accuracy\n",
        "model_accuracy = accuracy(test_features, test_labels, model)\n",
        "print(\"Accuracy on Test data is: {}%\".format(model_accuracy))"
      ],
      "execution_count": null,
      "outputs": []
    }
  ]
}